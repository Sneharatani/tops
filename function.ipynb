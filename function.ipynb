{
  "nbformat": 4,
  "nbformat_minor": 0,
  "metadata": {
    "colab": {
      "provenance": [],
      "authorship_tag": "ABX9TyNSkN4nJb1JOTinB32my/Cf",
      "include_colab_link": true
    },
    "kernelspec": {
      "name": "python3",
      "display_name": "Python 3"
    },
    "language_info": {
      "name": "python"
    }
  },
  "cells": [
    {
      "cell_type": "markdown",
      "metadata": {
        "id": "view-in-github",
        "colab_type": "text"
      },
      "source": [
        "<a href=\"https://colab.research.google.com/github/Sneharatani/tops/blob/main/function.ipynb\" target=\"_parent\"><img src=\"https://colab.research.google.com/assets/colab-badge.svg\" alt=\"Open In Colab\"/></a>"
      ]
    },
    {
      "cell_type": "code",
      "execution_count": null,
      "metadata": {
        "id": "TTkt_m9lA__l"
      },
      "outputs": [],
      "source": [
        "#1. Sum of a List\n",
        "def sum_list(numbers):\n",
        "return sum(numbers)\n",
        "print(sum_list([10, 20, 30]))"
      ]
    },
    {
      "cell_type": "code",
      "source": [
        "#2. Count Words in a Sentence\n",
        "def count_words(sentence):\n",
        "return len(sentence.split())\n",
        "print(count_words(\"Python is very easy\"))"
      ],
      "metadata": {
        "id": "-1WF7k95BPnj"
      },
      "execution_count": null,
      "outputs": []
    },
    {
      "cell_type": "code",
      "source": [
        "#3. Fibonacci Series\n",
        "def fibonacci(n):\n",
        "a, b = 0, 1\n",
        "for _ in range(n):\n",
        "print(a, end=' ')\n",
        "a, b = b, a + b\n",
        "fibonacci(7)"
      ],
      "metadata": {
        "id": "RsIqhTGIBPgO"
      },
      "execution_count": null,
      "outputs": []
    },
    {
      "cell_type": "code",
      "source": [
        "#4. Find GCD of Two Numbers\n",
        "def gcd(a, b):\n",
        "while b:\n",
        "a, b = b, a % b\n",
        "return a\n",
        "print(gcd(48, 18))"
      ],
      "metadata": {
        "id": "s63ZmAL8BPct"
      },
      "execution_count": null,
      "outputs": []
    },
    {
      "cell_type": "code",
      "source": [
        "#5. Check Prime Number\n",
        "def is_prime(n):\n",
        "if n < 2:\n",
        "return False\n",
        "for i in range(2, n):\n",
        "if n % i == 0:\n",
        "return False\n",
        "return True\n",
        "print(is_prime(13))"
      ],
      "metadata": {
        "id": "yWucycQABPZL"
      },
      "execution_count": null,
      "outputs": []
    },
    {
      "cell_type": "code",
      "source": [
        "#6. Check Armstrong Number\n",
        "def is_armstrong(n):\n",
        "digits = [int(d) for d in str(n)]\n",
        "return sum([d ** len(digits) for d in digits]) == n\n",
        "print(is_armstrong(153))"
      ],
      "metadata": {
        "id": "NrkFcTztBPVh"
      },
      "execution_count": null,
      "outputs": []
    },
    {
      "cell_type": "code",
      "source": [
        "#7. Sum of Digits\n",
        "def sum_digits(n):\n",
        "return sum(int(d) for d in str(n))\n",
        "print(sum_digits(1234))"
      ],
      "metadata": {
        "id": "EbqaQYvGBPSi"
      },
      "execution_count": null,
      "outputs": []
    },
    {
      "cell_type": "code",
      "source": [
        "#8. Reverse a Number\n",
        "def reverse_number(n):\n",
        "return int(str(n)[::-1])\n",
        "print(reverse_number(1234))"
      ],
      "metadata": {
        "id": "PYs7ItmVBPPl"
      },
      "execution_count": null,
      "outputs": []
    },
    {
      "cell_type": "code",
      "source": [
        "#9. Check Palindrome String\n",
        "def is_palindrome(s):\n",
        "return s == s[::-1]\n",
        "print(is_palindrome(\"madam\"))"
      ],
      "metadata": {
        "id": "k6jKFdJOBPM4"
      },
      "execution_count": null,
      "outputs": []
    },
    {
      "cell_type": "code",
      "source": [
        "#10. Count Vowels in String\n",
        "def count_vowels(text):\n",
        "return sum(1 for c in text.lower() if c in 'aeiou')\n",
        "print(count_vowels(\"Python is Fun\"))"
      ],
      "metadata": {
        "id": "UH1D0bC3BPKF"
      },
      "execution_count": null,
      "outputs": []
    },
    {
      "cell_type": "code",
      "source": [
        "#11. Find Maximum of Three Numbers\n",
        "def max_three(a, b, c):\n",
        "return max(a, b, c)\n",
        "print(max_three(10, 50, 30))"
      ],
      "metadata": {
        "id": "utsvLQwwBPHE"
      },
      "execution_count": null,
      "outputs": []
    },
    {
      "cell_type": "code",
      "source": [
        "#12. Linear Search in a List\n",
        "def linear_search(lst, target):\n",
        "for i in range(len(lst)):\n",
        "if lst[i] == target:\n",
        "return i\n",
        "return -1\n",
        "print(linear_search([10, 20, 30], 20))"
      ],
      "metadata": {
        "id": "PvsoHKk8BPEe"
      },
      "execution_count": null,
      "outputs": []
    },
    {
      "cell_type": "code",
      "source": [
        "#13. Factorial Using Loop\n",
        "def factorial(n):\n",
        "result = 1\n",
        "for i in range(2, n+1):\n",
        "result *= i\n",
        "return result\n",
        "print(factorial(5))"
      ],
      "metadata": {
        "id": "ok3Xq-vTBPBp"
      },
      "execution_count": null,
      "outputs": []
    },
    {
      "cell_type": "code",
      "source": [
        "#14. Convert Celsius to Fahrenheit\n",
        "def to_fahrenheit(c):\n",
        "return (c * 9/5) + 32\n",
        "print(to_fahrenheit(37))"
      ],
      "metadata": {
        "id": "p4tBB-_5BO_N"
      },
      "execution_count": null,
      "outputs": []
    },
    {
      "cell_type": "code",
      "source": [
        "#15. Count Even Numbers in List\n",
        "def count_even(lst):\n",
        "return len([x for x in lst if x % 2 == 0])\n",
        "print(count_even([1, 2, 3, 4, 6]))"
      ],
      "metadata": {
        "id": "K2SGZvuEBO8g"
      },
      "execution_count": null,
      "outputs": []
    },
    {
      "cell_type": "code",
      "source": [
        "#16. Reverse Words in a Sentence\n",
        "def reverse_words(sentence):\n",
        "return ' '.join(sentence.split()[::-1])\n",
        "print(reverse_words(\"Python is fun\"))"
      ],
      "metadata": {
        "id": "r8FSKEQTBO5g"
      },
      "execution_count": null,
      "outputs": []
    },
    {
      "cell_type": "code",
      "source": [
        "#17. Check Leap Year\n",
        "def is_leap(year):\n",
        "return (year % 4 == 0 and year % 100 != 0) or (year % 400 == 0)\n",
        "print(is_leap(2024))"
      ],
      "metadata": {
        "id": "2lZA2-9XBO2_"
      },
      "execution_count": null,
      "outputs": []
    },
    {
      "cell_type": "code",
      "source": [
        "#18. Sum of Even Digits\n",
        "def even_digit_sum(n):\n",
        "return sum(int(d) for d in str(n) if int(d) % 2 == 0)\n",
        "print(even_digit_sum(123456))"
      ],
      "metadata": {
        "id": "ikV0ygSaBOz3"
      },
      "execution_count": null,
      "outputs": []
    },
    {
      "cell_type": "code",
      "source": [
        "#19. Check Strong Number\n",
        "def is_strong(n):\n",
        "from math import factorial\n",
        "return sum(factorial(int(d)) for d in str(n)) == n\n",
        "print(is_strong(145))"
      ],
      "metadata": {
        "id": "tRGJl7hDBOxE"
      },
      "execution_count": null,
      "outputs": []
    },
    {
      "cell_type": "code",
      "source": [
        "#20. Find Unique Elements in List\n",
        "def unique_elements(lst):\n",
        "return list(set(lst))\n",
        "print(unique_elements([1, 2, 2, 3, 3, 4])"
      ],
      "metadata": {
        "id": "jmGTLoAZBOuW"
      },
      "execution_count": null,
      "outputs": []
    }
  ]
}