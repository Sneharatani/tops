{
  "nbformat": 4,
  "nbformat_minor": 0,
  "metadata": {
    "colab": {
      "provenance": [],
      "authorship_tag": "ABX9TyORUW/m40XAFJ+g9iPZocII",
      "include_colab_link": true
    },
    "kernelspec": {
      "name": "python3",
      "display_name": "Python 3"
    },
    "language_info": {
      "name": "python"
    }
  },
  "cells": [
    {
      "cell_type": "markdown",
      "metadata": {
        "id": "view-in-github",
        "colab_type": "text"
      },
      "source": [
        "<a href=\"https://colab.research.google.com/github/Sneharatani/tops/blob/main/assignment.ipynb\" target=\"_parent\"><img src=\"https://colab.research.google.com/assets/colab-badge.svg\" alt=\"Open In Colab\"/></a>"
      ]
    },
    {
      "cell_type": "code",
      "source": [
        "#1. Sum of first n positive integers\n",
        "n = int(input(\"Enter a number: \"))\n",
        "total = 0\n",
        "for i in range(1, n + 1):\n",
        "    total += i\n",
        "print(\"Sum:\", total)"
      ],
      "metadata": {
        "id": "fUj_yxcCEOUb"
      },
      "execution_count": null,
      "outputs": []
    },
    {
      "cell_type": "code",
      "source": [
        "#2.Count occurrences of a substring\n",
        "string = input(\"Enter a string: \")\n",
        "substring = input(\"Enter a substring to count: \")\n",
        "count = string.count(substring)\n",
        "print(\"Occurrences:\", count)"
      ],
      "metadata": {
        "id": "wki_Q6iSEORy"
      },
      "execution_count": null,
      "outputs": []
    },
    {
      "cell_type": "code",
      "source": [
        "#3.Count occurrences of each word\n",
        "sentence = input(\"Enter a sentence: \")\n",
        "words = sentence.split()\n",
        "for word in set(words):\n",
        "    print(word, \":\", words.count(word))"
      ],
      "metadata": {
        "id": "CW0rQzNaEOPF"
      },
      "execution_count": null,
      "outputs": []
    },
    {
      "cell_type": "code",
      "source": [
        "#4.Swap first 2 characters of two strings\n",
        "s1 = input(\"Enter first string: \")\n",
        "s2 = input(\"Enter second string: \")\n",
        "result = s2[:2] + s1[2:] + \" \" + s1[:2] + s2[2:]\n",
        "print(\"Result:\", result)"
      ],
      "metadata": {
        "id": "h3tq68uWEOMX"
      },
      "execution_count": null,
      "outputs": []
    },
    {
      "cell_type": "code",
      "source": [
        "#5.Add 'ing' or 'ly'\n",
        "s = input(\"Enter a string: \")\n",
        "if len(s) >= 3:\n",
        "    if s.endswith(\"ing\"):\n",
        "        s += \"ly\"\n",
        "    else:\n",
        "        s += \"ing\"\n",
        "print(\"Result:\", s)"
      ],
      "metadata": {
        "id": "Yx4893G2EOJC"
      },
      "execution_count": null,
      "outputs": []
    },
    {
      "cell_type": "code",
      "execution_count": null,
      "metadata": {
        "id": "SNPMSvSc6gFy",
        "colab": {
          "base_uri": "https://localhost:8080/"
        },
        "outputId": "2b63ec9f-0e4e-4fb9-d26a-5f993d0d3329"
      },
      "outputs": [
        {
          "output_type": "stream",
          "name": "stdout",
          "text": [
            "The movie is good!\n",
            "This dinner is good\n",
            "This is a poor show\n"
          ]
        }
      ],
      "source": [
        "#6. Replace 'not'...'poor' with 'good'\n",
        "def replace_not_poor(sentence):\n",
        "    not_index = sentence.find('not')\n",
        "    poor_index = sentence.find('poor')\n",
        "\n",
        "    if not_index != -1 and poor_index != -1 and not_index < poor_index:\n",
        "        sentence = sentence[:not_index] + 'good' + sentence[poor_index + 4:]\n",
        "\n",
        "    return sentence\n",
        "\n",
        "\n",
        "print(replace_not_poor(\"The movie is not that poor!\"))\n",
        "print(replace_not_poor(\"This dinner is not so poor\"))\n",
        "print(replace_not_poor(\"This is a poor show\"))"
      ]
    },
    {
      "cell_type": "code",
      "source": [
        "#7.GCD of two numbers\n",
        "a = int(input(\"Enter first number: \"))\n",
        "b = int(input(\"Enter second number: \"))\n",
        "while b:\n",
        "    a, b = b, a % b\n",
        "print(\"GCD is:\", a)"
      ],
      "metadata": {
        "id": "Na08CQ7p6xC_"
      },
      "execution_count": null,
      "outputs": []
    },
    {
      "cell_type": "code",
      "source": [
        "#8.Check if a list contains a sublist\n",
        "main_list = [1, 2, 3, 4, 5]\n",
        "sub_list = [2, 3]\n",
        "\n",
        "found = False\n",
        "for i in range(len(main_list) - len(sub_list) + 1):\n",
        "    if main_list[i:i+len(sub_list)] == sub_list:\n",
        "        found = True\n",
        "        break\n",
        "print(\"Sublist found:\", found)"
      ],
      "metadata": {
        "id": "1MNwMEYj7c9V"
      },
      "execution_count": null,
      "outputs": []
    },
    {
      "cell_type": "code",
      "source": [
        "#9.Find second smallest number\n",
        "lst = [5, 1, 3, 9, 2]\n",
        "first = second = float('inf')\n",
        "for num in lst:\n",
        "    if num < first:\n",
        "        second = first\n",
        "        first = num\n",
        "    elif num < second and num != first:\n",
        "        second = num\n",
        "print(\"Second smallest:\", second)"
      ],
      "metadata": {
        "id": "DydkRHnH77ZR"
      },
      "execution_count": null,
      "outputs": []
    },
    {
      "cell_type": "code",
      "source": [
        "#10.Get unique values from a list\n",
        "lst = [1, 2, 2, 3, 4, 4, 5]\n",
        "unique = []\n",
        "for i in lst:\n",
        "    if i not in unique:\n",
        "        unique.append(i)\n",
        "print(\"Unique values:\", unique)"
      ],
      "metadata": {
        "colab": {
          "base_uri": "https://localhost:8080/"
        },
        "id": "C-UNW_0p8Jd2",
        "outputId": "8bd192e0-104f-442d-dbda-4dfec87ec61e"
      },
      "execution_count": null,
      "outputs": [
        {
          "output_type": "stream",
          "name": "stdout",
          "text": [
            "Unique values: [1, 2, 3, 4, 5]\n"
          ]
        }
      ]
    },
    {
      "cell_type": "code",
      "source": [
        "#11.Unzip a list of tuples\n",
        "pairs = [(1, 'a'), (2, 'b'), (3, 'c')]\n",
        "list1 = []\n",
        "list2 = []\n",
        "for a, b in pairs:\n",
        "    list1.append(a)\n",
        "    list2.append(b)\n",
        "print(\"List1:\", list1)\n",
        "print(\"List2:\", list2)\n"
      ],
      "metadata": {
        "id": "gM0metcp8LRk"
      },
      "execution_count": null,
      "outputs": []
    },
    {
      "cell_type": "code",
      "source": [
        "#12.Convert list of tuples to dictionary\n",
        "pairs = [(1, 'a'), (2, 'b'), (3, 'c')]\n",
        "d = {}\n",
        "for key, value in pairs:\n",
        "    d[key] = value\n",
        "print(\"Dictionary:\", d)"
      ],
      "metadata": {
        "id": "xaO1Tml0CtmG"
      },
      "execution_count": null,
      "outputs": []
    },
    {
      "cell_type": "code",
      "source": [
        "#13.Sort dictionary by value (asc & desc)\n",
        "d = {'a': 3, 'b': 1, 'c': 2}\n",
        "for k in sorted(d, key=lambda x: d[x]):\n",
        "    print(k, \":\", d[k])\n",
        "for k in sorted(d, key=lambda x: d[x], reverse=True):\n",
        "    print(k, \":\", d[k])"
      ],
      "metadata": {
        "id": "w54rgLOtCtim"
      },
      "execution_count": null,
      "outputs": []
    },
    {
      "cell_type": "code",
      "source": [
        "#14.find top 3 values in dictionary\n",
        "d = {'a': 10, 'b': 40, 'c': 30, 'd': 20}\n",
        "top3 = []\n",
        "for key in d:\n",
        "    top3.append(d[key])\n",
        "top3.sort(reverse=True)\n",
        "print(\"Top 3 values:\", top3[:3])"
      ],
      "metadata": {
        "id": "T2qfsC8lCtfi"
      },
      "execution_count": null,
      "outputs": []
    },
    {
      "cell_type": "code",
      "source": [
        "#15.fibonacci series up to n\n",
        "n = int(input(\"Enter number of terms: \"))\n",
        "a, b = 0, 1\n",
        "print(\"Fibonacci:\", end=\" \")\n",
        "for i in range(n):\n",
        "    print(a, end=\" \")\n",
        "    a, b = b, a + b"
      ],
      "metadata": {
        "id": "fqcTYEAQCtcw"
      },
      "execution_count": null,
      "outputs": []
    },
    {
      "cell_type": "code",
      "source": [
        "#16.Frequency count in a list\n",
        "lst = [1, 1, 1, 5, 5, 3, 1, 3, 3, 1, 4, 4, 4, 2, 2, 2, 2]\n",
        "freq = {}\n",
        "for i in lst:\n",
        "    if i in freq:\n",
        "        freq[i] += 1\n",
        "    else:\n",
        "        freq[i] = 1\n",
        "for k in freq:\n",
        "    print(k, \":\", freq[k])"
      ],
      "metadata": {
        "id": "6Vn56lvfCtZ9"
      },
      "execution_count": null,
      "outputs": []
    },
    {
      "cell_type": "code",
      "source": [
        "#17.Sum of odd and even series using function\n",
        "def factorial(n):\n",
        "    f = 1\n",
        "    for i in range(1, n+1):\n",
        "        f *= i\n",
        "    return f\n",
        "\n",
        "def odd_series(n):\n",
        "    s = 0\n",
        "    for i in range(1, n+1, 2):\n",
        "        s += i * 10 + 2 / factorial(i)\n",
        "    return s\n",
        "\n",
        "def even_series(n):\n",
        "    s = 0\n",
        "    for i in range(2, n+1, 2):\n",
        "        s += i * 10 + 2 / factorial(i)\n",
        "    return s\n",
        "\n",
        "print(\"Odd Series Sum:\", odd_series(7))\n",
        "print(\"Even Series Sum:\", even_series(6))"
      ],
      "metadata": {
        "id": "OGU1no23CtXN"
      },
      "execution_count": null,
      "outputs": []
    },
    {
      "cell_type": "code",
      "source": [
        "#18.Factorial using recursion\n",
        "def fact(n):\n",
        "    if n == 0 or n == 1:\n",
        "        return 1\n",
        "    else:\n",
        "        return n * fact(n - 1)\n",
        "\n",
        "n = int(input(\"Enter number: \"))\n",
        "print(\"Factorial:\", fact(n))"
      ],
      "metadata": {
        "id": "mvv7LhuICtUs"
      },
      "execution_count": null,
      "outputs": []
    },
    {
      "cell_type": "code",
      "source": [
        "#19.Remove duplicates from list\n",
        "lst = [1, 2, 2, 3, 4, 4, 5]\n",
        "new_list = []\n",
        "for i in lst:\n",
        "    if i not in new_list:\n",
        "        new_list.append(i)\n",
        "print(\"Without duplicates:\", new_list)"
      ],
      "metadata": {
        "id": "7Ag8wxOVCtR9"
      },
      "execution_count": null,
      "outputs": []
    },
    {
      "cell_type": "code",
      "source": [
        "#20.Mini Project – Password Generator\n",
        "class User:\n",
        "    def __init__(self, user_id, name, password):\n",
        "        self.details = (user_id, name, password)\n",
        "\n",
        "def generate_password(user_input):\n",
        "    pwd = \"\"\n",
        "    for word in user_input.split():\n",
        "        pwd += word[:2]\n",
        "    pwd += \"\"\n",
        "    if len(pwd) < 8:\n",
        "        raise Exception(\"Password too short\")\n",
        "    return pwd\n",
        "\n",
        "try:\n",
        "    uid = input(\"Enter user ID: \")\n",
        "    name = input(\"Enter name: \")\n",
        "    text = input(\"Enter password : \")\n",
        "    pwd = generate_password(text)\n",
        "    user = User(uid, name, pwd)\n",
        "    print(\"User Info:\", user.details)\n",
        "except Exception as e:\n",
        "    print(\"Error:\", e)"
      ],
      "metadata": {
        "colab": {
          "base_uri": "https://localhost:8080/"
        },
        "id": "y3tdDgvtCtPR",
        "outputId": "799e5018-7901-40c5-9897-d56f91704745"
      },
      "execution_count": null,
      "outputs": [
        {
          "output_type": "stream",
          "name": "stdout",
          "text": [
            "Enter user ID: 2505\n",
            "Enter name: sneha\n",
            "Enter password : 78965412300\n",
            "Error: Password too short\n"
          ]
        }
      ]
    }
  ]
}