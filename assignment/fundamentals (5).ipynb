{
 "cells": [
  {
   "cell_type": "markdown",
   "id": "03bf5593",
   "metadata": {},
   "source": [
    "#### OUTPUT"
   ]
  },
  {
   "cell_type": "code",
   "execution_count": 2,
   "id": "6820bacb",
   "metadata": {},
   "outputs": [
    {
     "name": "stdout",
     "output_type": "stream",
     "text": [
      "Hello world!\n"
     ]
    }
   ],
   "source": [
    "print(\"Hello world!\")"
   ]
  },
  {
   "cell_type": "code",
   "execution_count": 3,
   "id": "0b7cac33",
   "metadata": {},
   "outputs": [
    {
     "name": "stdout",
     "output_type": "stream",
     "text": [
      "hellooo\n"
     ]
    }
   ],
   "source": [
    "print('hellooo')"
   ]
  },
  {
   "cell_type": "code",
   "execution_count": 4,
   "id": "e3059c6b",
   "metadata": {},
   "outputs": [
    {
     "ename": "SyntaxError",
     "evalue": "unterminated string literal (detected at line 1) (2736789527.py, line 1)",
     "output_type": "error",
     "traceback": [
      "\u001b[1;36m  Cell \u001b[1;32mIn[4], line 1\u001b[1;36m\u001b[0m\n\u001b[1;33m    print('hello\")\u001b[0m\n\u001b[1;37m          ^\u001b[0m\n\u001b[1;31mSyntaxError\u001b[0m\u001b[1;31m:\u001b[0m unterminated string literal (detected at line 1)\n"
     ]
    }
   ],
   "source": [
    "print('hello\")"
   ]
  },
  {
   "cell_type": "code",
   "execution_count": 9,
   "id": "ff230535",
   "metadata": {},
   "outputs": [
    {
     "ename": "_IncompleteInputError",
     "evalue": "incomplete input (218476716.py, line 2)",
     "output_type": "error",
     "traceback": [
      "\u001b[1;36m  Cell \u001b[1;32mIn[9], line 2\u001b[1;36m\u001b[0m\n\u001b[1;33m    # world ')\u001b[0m\n\u001b[1;37m              ^\u001b[0m\n\u001b[1;31m_IncompleteInputError\u001b[0m\u001b[1;31m:\u001b[0m incomplete input\n"
     ]
    }
   ],
   "source": [
    "print('hello '\n",
    "# world ')"
   ]
  },
  {
   "cell_type": "code",
   "execution_count": 10,
   "id": "58de38bd",
   "metadata": {},
   "outputs": [
    {
     "name": "stdout",
     "output_type": "stream",
     "text": [
      "\n",
      "      hello\n",
      "      world\n",
      "      hyy \n",
      "      \n"
     ]
    }
   ],
   "source": [
    "print('''\n",
    "      hello\n",
    "      world\n",
    "      hyy \n",
    "      ''')"
   ]
  },
  {
   "cell_type": "code",
   "execution_count": 11,
   "id": "7ca1c1fa",
   "metadata": {},
   "outputs": [
    {
     "name": "stdout",
     "output_type": "stream",
     "text": [
      "\n",
      "      Welcome\n",
      "      to\n",
      "      python\n",
      "      programming\n"
     ]
    }
   ],
   "source": [
    "print(\"\"\"\n",
    "      Welcome\n",
    "      to\n",
    "      python\n",
    "      programming\"\"\")"
   ]
  },
  {
   "cell_type": "code",
   "execution_count": 12,
   "id": "0118724b",
   "metadata": {},
   "outputs": [
    {
     "ename": "NameError",
     "evalue": "name 'Print' is not defined",
     "output_type": "error",
     "traceback": [
      "\u001b[1;31m---------------------------------------------------------------------------\u001b[0m",
      "\u001b[1;31mNameError\u001b[0m                                 Traceback (most recent call last)",
      "Cell \u001b[1;32mIn[12], line 1\u001b[0m\n\u001b[1;32m----> 1\u001b[0m \u001b[43mPrint\u001b[49m(\u001b[38;5;124m\"\u001b[39m\u001b[38;5;124mHello\u001b[39m\u001b[38;5;124m\"\u001b[39m)\n",
      "\u001b[1;31mNameError\u001b[0m: name 'Print' is not defined"
     ]
    }
   ],
   "source": [
    "Print(\"Hello\")"
   ]
  },
  {
   "cell_type": "code",
   "execution_count": 13,
   "id": "ef428a37",
   "metadata": {},
   "outputs": [
    {
     "ename": "NameError",
     "evalue": "name 'HEllo' is not defined",
     "output_type": "error",
     "traceback": [
      "\u001b[1;31m---------------------------------------------------------------------------\u001b[0m",
      "\u001b[1;31mNameError\u001b[0m                                 Traceback (most recent call last)",
      "Cell \u001b[1;32mIn[13], line 1\u001b[0m\n\u001b[1;32m----> 1\u001b[0m \u001b[38;5;28mprint\u001b[39m(\u001b[43mHEllo\u001b[49m)\n",
      "\u001b[1;31mNameError\u001b[0m: name 'HEllo' is not defined"
     ]
    }
   ],
   "source": [
    "print(HEllo)"
   ]
  },
  {
   "cell_type": "code",
   "execution_count": 16,
   "id": "0bef267b",
   "metadata": {},
   "outputs": [
    {
     "name": "stdout",
     "output_type": "stream",
     "text": [
      "khush Tarang\n"
     ]
    }
   ],
   "source": [
    "print(\"khush\",'Tarang',sep=' ')\n",
    "# sep = default -> space"
   ]
  },
  {
   "cell_type": "code",
   "execution_count": null,
   "id": "8d1d1245",
   "metadata": {},
   "outputs": [
    {
     "name": "stdout",
     "output_type": "stream",
     "text": [
      "khush, $ %Tarang, $ %Vishwa\n"
     ]
    }
   ],
   "source": [
    "print(\"khush\",'Tarang','Vishwa',sep=', $ %')"
   ]
  },
  {
   "cell_type": "code",
   "execution_count": 21,
   "id": "fdbea378",
   "metadata": {},
   "outputs": [
    {
     "name": "stdout",
     "output_type": "stream",
     "text": [
      "25\n"
     ]
    }
   ],
   "source": [
    "print(25)"
   ]
  },
  {
   "cell_type": "code",
   "execution_count": 23,
   "id": "f090850e",
   "metadata": {},
   "outputs": [
    {
     "data": {
      "text/plain": [
       "125"
      ]
     },
     "execution_count": 23,
     "metadata": {},
     "output_type": "execute_result"
    }
   ],
   "source": [
    "\n",
    "\n",
    "\n",
    "\n",
    "\n",
    "\n",
    "\n",
    "58 \n",
    "96 \n",
    "96.3\n",
    "25\n",
    "\n",
    "\n",
    "25\n",
    "125"
   ]
  },
  {
   "cell_type": "code",
   "execution_count": 24,
   "id": "40dc5998",
   "metadata": {},
   "outputs": [
    {
     "name": "stdout",
     "output_type": "stream",
     "text": [
      "85\n"
     ]
    }
   ],
   "source": [
    "print(85)"
   ]
  },
  {
   "cell_type": "code",
   "execution_count": 25,
   "id": "8aca79fc",
   "metadata": {},
   "outputs": [
    {
     "name": "stdout",
     "output_type": "stream",
     "text": [
      "128\n"
     ]
    }
   ],
   "source": [
    "print(59+69)"
   ]
  },
  {
   "cell_type": "code",
   "execution_count": null,
   "id": "6236260d",
   "metadata": {},
   "outputs": [
    {
     "name": "stdout",
     "output_type": "stream",
     "text": [
      "Hello\n",
      "World\n"
     ]
    }
   ],
   "source": [
    "print(\"Hello\",end = '\\n')\n",
    "print(\"World\")\n",
    "# end = default -> \\n-> new line"
   ]
  },
  {
   "cell_type": "code",
   "execution_count": 32,
   "id": "2e0d5724",
   "metadata": {},
   "outputs": [
    {
     "name": "stdout",
     "output_type": "stream",
     "text": [
      "Hello             ^        World\n",
      "Hello\n"
     ]
    }
   ],
   "source": [
    "print(\"Hello\",end = '             ^        ')\n",
    "print(\"World\")\n",
    "print(\"Hello\")"
   ]
  },
  {
   "cell_type": "code",
   "execution_count": 27,
   "id": "6b8a07c6",
   "metadata": {},
   "outputs": [
    {
     "name": "stdout",
     "output_type": "stream",
     "text": [
      "khush\n",
      "Tarang\n",
      "Vishwa\n"
     ]
    }
   ],
   "source": [
    "print(\"khush\",'Tarang','Vishwa',sep='\\n')"
   ]
  },
  {
   "cell_type": "code",
   "execution_count": 28,
   "id": "da76fcb0",
   "metadata": {},
   "outputs": [
    {
     "name": "stdout",
     "output_type": "stream",
     "text": [
      "student's information\n",
      "student's information\n"
     ]
    }
   ],
   "source": [
    "\n",
    "\n",
    "print(\"student's information\")\n",
    "\n",
    "print('student\\'s information')"
   ]
  },
  {
   "cell_type": "markdown",
   "id": "89d28a29",
   "metadata": {},
   "source": [
    "#### Data Types\n",
    "\n",
    "Different ways\n",
    "\n",
    "a. 3 datatypes\n",
    "1. Numeric  - int, float, complex\n",
    "2. Text - string, boolean\n",
    "3. Collection - list, tuple, dict, set\n",
    "\n",
    "\n",
    "b. 5 data types and collection\n",
    "1. Int\n",
    "2. Float\n",
    "3. String\n",
    "4. Boolean\n",
    "5. Complex\n",
    "\n",
    "Collection:\n",
    "1. list \n",
    "2. Tuple\n",
    "3. Dict\n",
    "4. Set\n",
    "\n"
   ]
  },
  {
   "cell_type": "code",
   "execution_count": null,
   "id": "dc17f114",
   "metadata": {},
   "outputs": [
    {
     "name": "stdout",
     "output_type": "stream",
     "text": [
      "56\n"
     ]
    }
   ],
   "source": [
    "##int  -> whole number\n",
    "print(56)"
   ]
  },
  {
   "cell_type": "code",
   "execution_count": 3,
   "id": "e6281ca0",
   "metadata": {},
   "outputs": [
    {
     "data": {
      "text/plain": [
       "int"
      ]
     },
     "execution_count": 3,
     "metadata": {},
     "output_type": "execute_result"
    }
   ],
   "source": [
    "type(565555)"
   ]
  },
  {
   "cell_type": "code",
   "execution_count": 4,
   "id": "ccb3d538",
   "metadata": {},
   "outputs": [
    {
     "data": {
      "text/plain": [
       "float"
      ]
     },
     "execution_count": 4,
     "metadata": {},
     "output_type": "execute_result"
    }
   ],
   "source": [
    "# float - fractional values or decimal point\n",
    "type(5.6)"
   ]
  },
  {
   "cell_type": "code",
   "execution_count": 5,
   "id": "410f67a1",
   "metadata": {},
   "outputs": [
    {
     "data": {
      "text/plain": [
       "float"
      ]
     },
     "execution_count": 5,
     "metadata": {},
     "output_type": "execute_result"
    }
   ],
   "source": [
    "type(1.0)"
   ]
  },
  {
   "cell_type": "code",
   "execution_count": 6,
   "id": "9584536c",
   "metadata": {},
   "outputs": [
    {
     "data": {
      "text/plain": [
       "str"
      ]
     },
     "execution_count": 6,
     "metadata": {},
     "output_type": "execute_result"
    }
   ],
   "source": [
    "# string-> '' \n",
    "type('hello')"
   ]
  },
  {
   "cell_type": "code",
   "execution_count": 7,
   "id": "3958b526",
   "metadata": {},
   "outputs": [
    {
     "data": {
      "text/plain": [
       "str"
      ]
     },
     "execution_count": 7,
     "metadata": {},
     "output_type": "execute_result"
    }
   ],
   "source": [
    "type('56')"
   ]
  },
  {
   "cell_type": "code",
   "execution_count": 8,
   "id": "e3e3c5ec",
   "metadata": {},
   "outputs": [
    {
     "data": {
      "text/plain": [
       "str"
      ]
     },
     "execution_count": 8,
     "metadata": {},
     "output_type": "execute_result"
    }
   ],
   "source": [
    "type(' ')"
   ]
  },
  {
   "cell_type": "code",
   "execution_count": 9,
   "id": "4f568f79",
   "metadata": {},
   "outputs": [
    {
     "data": {
      "text/plain": [
       "str"
      ]
     },
     "execution_count": 9,
     "metadata": {},
     "output_type": "execute_result"
    }
   ],
   "source": [
    "type(\" \")"
   ]
  },
  {
   "cell_type": "code",
   "execution_count": 10,
   "id": "879d4b81",
   "metadata": {},
   "outputs": [],
   "source": [
    "# boolean -> true, false"
   ]
  },
  {
   "cell_type": "code",
   "execution_count": 11,
   "id": "afa9153f",
   "metadata": {},
   "outputs": [
    {
     "ename": "NameError",
     "evalue": "name 'true' is not defined",
     "output_type": "error",
     "traceback": [
      "\u001b[1;31m---------------------------------------------------------------------------\u001b[0m",
      "\u001b[1;31mNameError\u001b[0m                                 Traceback (most recent call last)",
      "Cell \u001b[1;32mIn[11], line 1\u001b[0m\n\u001b[1;32m----> 1\u001b[0m \u001b[38;5;28mtype\u001b[39m(\u001b[43mtrue\u001b[49m)\n",
      "\u001b[1;31mNameError\u001b[0m: name 'true' is not defined"
     ]
    }
   ],
   "source": [
    "type(true)"
   ]
  },
  {
   "cell_type": "code",
   "execution_count": 12,
   "id": "8b2552c5",
   "metadata": {},
   "outputs": [
    {
     "data": {
      "text/plain": [
       "bool"
      ]
     },
     "execution_count": 12,
     "metadata": {},
     "output_type": "execute_result"
    }
   ],
   "source": [
    "type(True)"
   ]
  },
  {
   "cell_type": "code",
   "execution_count": 13,
   "id": "830ad2c1",
   "metadata": {},
   "outputs": [
    {
     "ename": "NameError",
     "evalue": "name 'false' is not defined",
     "output_type": "error",
     "traceback": [
      "\u001b[1;31m---------------------------------------------------------------------------\u001b[0m",
      "\u001b[1;31mNameError\u001b[0m                                 Traceback (most recent call last)",
      "Cell \u001b[1;32mIn[13], line 1\u001b[0m\n\u001b[1;32m----> 1\u001b[0m \u001b[38;5;28mtype\u001b[39m(\u001b[43mfalse\u001b[49m)\n",
      "\u001b[1;31mNameError\u001b[0m: name 'false' is not defined"
     ]
    }
   ],
   "source": [
    "type(false)"
   ]
  },
  {
   "cell_type": "code",
   "execution_count": 14,
   "id": "7451a240",
   "metadata": {},
   "outputs": [
    {
     "data": {
      "text/plain": [
       "bool"
      ]
     },
     "execution_count": 14,
     "metadata": {},
     "output_type": "execute_result"
    }
   ],
   "source": [
    "type(False)"
   ]
  },
  {
   "cell_type": "code",
   "execution_count": 15,
   "id": "c4519918",
   "metadata": {},
   "outputs": [
    {
     "data": {
      "text/plain": [
       "complex"
      ]
     },
     "execution_count": 15,
     "metadata": {},
     "output_type": "execute_result"
    }
   ],
   "source": [
    "# complex -> real+imaginary\n",
    "type(1+5j)"
   ]
  },
  {
   "cell_type": "code",
   "execution_count": 21,
   "id": "7ca457dc",
   "metadata": {},
   "outputs": [
    {
     "data": {
      "text/plain": [
       "complex"
      ]
     },
     "execution_count": 21,
     "metadata": {},
     "output_type": "execute_result"
    }
   ],
   "source": [
    "type(0.5+5j)"
   ]
  },
  {
   "cell_type": "code",
   "execution_count": 37,
   "id": "cfeb8122",
   "metadata": {},
   "outputs": [
    {
     "name": "stdout",
     "output_type": "stream",
     "text": [
      "[1, 2, 3, 4, 5.2, 'a', True]\n"
     ]
    },
    {
     "data": {
      "text/plain": [
       "list"
      ]
     },
     "execution_count": 37,
     "metadata": {},
     "output_type": "execute_result"
    }
   ],
   "source": [
    "# list -> []\n",
    "print([1,2,3,4,5.2,'a',True])\n",
    "type([1,2,3,4,5.2,'a',True])"
   ]
  },
  {
   "cell_type": "code",
   "execution_count": 25,
   "id": "16c05291",
   "metadata": {},
   "outputs": [
    {
     "data": {
      "text/plain": [
       "tuple"
      ]
     },
     "execution_count": 25,
     "metadata": {},
     "output_type": "execute_result"
    }
   ],
   "source": [
    "# tuple - ()\n",
    "type((1,2,3.5,'a'))"
   ]
  },
  {
   "cell_type": "code",
   "execution_count": 41,
   "id": "635d6b77",
   "metadata": {},
   "outputs": [
    {
     "data": {
      "text/plain": [
       "dict"
      ]
     },
     "execution_count": 41,
     "metadata": {},
     "output_type": "execute_result"
    }
   ],
   "source": [
    "# dict = {k:v}\n",
    "type({'a':'A','b':'B'})\n",
    "type({(1,2):'One',2:'Two'})"
   ]
  },
  {
   "cell_type": "code",
   "execution_count": null,
   "id": "8faeade8",
   "metadata": {},
   "outputs": [
    {
     "data": {
      "text/plain": [
       "set"
      ]
     },
     "execution_count": 32,
     "metadata": {},
     "output_type": "execute_result"
    }
   ],
   "source": [
    "# set - {} \n",
    "type({5,4,7,8,9,6,2,2,4,5,'a',8.0,9})"
   ]
  },
  {
   "cell_type": "code",
   "execution_count": 36,
   "id": "f2fe506f",
   "metadata": {},
   "outputs": [
    {
     "data": {
      "text/plain": [
       "{(4, 5, 2), 2, 4, 5, 6, 7, 8, 8.8, 9, 'a'}"
      ]
     },
     "execution_count": 36,
     "metadata": {},
     "output_type": "execute_result"
    }
   ],
   "source": [
    "{5,4,7,8,9,6,2,2,4,5,'a',8.8,9,(4,5,2)}"
   ]
  },
  {
   "cell_type": "markdown",
   "id": "210b53c8",
   "metadata": {},
   "source": [
    "#### VARIABLES\n",
    "\n",
    "variable is a container that hold any value"
   ]
  },
  {
   "cell_type": "code",
   "execution_count": 42,
   "id": "35a8e917",
   "metadata": {},
   "outputs": [],
   "source": [
    "age = 56"
   ]
  },
  {
   "cell_type": "code",
   "execution_count": 44,
   "id": "ea8dfd42",
   "metadata": {},
   "outputs": [
    {
     "name": "stdout",
     "output_type": "stream",
     "text": [
      "age\n"
     ]
    }
   ],
   "source": [
    "print('age')"
   ]
  },
  {
   "cell_type": "code",
   "execution_count": 45,
   "id": "9638945b",
   "metadata": {},
   "outputs": [
    {
     "name": "stdout",
     "output_type": "stream",
     "text": [
      "56\n"
     ]
    }
   ],
   "source": [
    "print(age)"
   ]
  },
  {
   "cell_type": "code",
   "execution_count": 46,
   "id": "b7f0c9e6",
   "metadata": {},
   "outputs": [
    {
     "data": {
      "text/plain": [
       "int"
      ]
     },
     "execution_count": 46,
     "metadata": {},
     "output_type": "execute_result"
    }
   ],
   "source": [
    "type(age)"
   ]
  },
  {
   "cell_type": "code",
   "execution_count": 47,
   "id": "458f97ac",
   "metadata": {},
   "outputs": [],
   "source": [
    "age = 5.6"
   ]
  },
  {
   "cell_type": "code",
   "execution_count": 48,
   "id": "63392968",
   "metadata": {},
   "outputs": [
    {
     "data": {
      "text/plain": [
       "5.6"
      ]
     },
     "execution_count": 48,
     "metadata": {},
     "output_type": "execute_result"
    }
   ],
   "source": [
    "age"
   ]
  },
  {
   "cell_type": "code",
   "execution_count": 49,
   "id": "9c0b95a8",
   "metadata": {},
   "outputs": [
    {
     "data": {
      "text/plain": [
       "float"
      ]
     },
     "execution_count": 49,
     "metadata": {},
     "output_type": "execute_result"
    }
   ],
   "source": [
    "type(age)"
   ]
  },
  {
   "cell_type": "markdown",
   "id": "45452563",
   "metadata": {},
   "source": [
    "Dynamic Typing -> it is the practice where you can change the value of variable anytime according to your need.\n",
    "\n",
    "\n",
    "Dynamic Binding -> it is the practice where you can change the data type of the variable anytime, according to your need"
   ]
  },
  {
   "cell_type": "code",
   "execution_count": 50,
   "id": "fa2950f6",
   "metadata": {},
   "outputs": [],
   "source": [
    "a = 1\n",
    "b=2\n",
    "c=3"
   ]
  },
  {
   "cell_type": "code",
   "execution_count": 55,
   "id": "9580525a",
   "metadata": {},
   "outputs": [
    {
     "name": "stdout",
     "output_type": "stream",
     "text": [
      "a =  1 , b =  2 c =  3\n"
     ]
    }
   ],
   "source": [
    "print('a = ',a,',','b = ',b,'c = ',c)"
   ]
  },
  {
   "cell_type": "code",
   "execution_count": 54,
   "id": "94bcb7fa",
   "metadata": {},
   "outputs": [
    {
     "name": "stdout",
     "output_type": "stream",
     "text": [
      "a = 1, b = 2, c = 3\n"
     ]
    }
   ],
   "source": [
    "print(f\"a = {a}, b = {b}, c = {c}\")"
   ]
  },
  {
   "cell_type": "code",
   "execution_count": 57,
   "id": "b66ff1b8",
   "metadata": {},
   "outputs": [],
   "source": [
    "a,b,c = 10,20,30\n"
   ]
  },
  {
   "cell_type": "code",
   "execution_count": 58,
   "id": "4bac43e6",
   "metadata": {},
   "outputs": [
    {
     "name": "stdout",
     "output_type": "stream",
     "text": [
      "a = 10, b = 20, c = 30\n"
     ]
    }
   ],
   "source": [
    "print(f\"a = {a}, b = {b}, c = {c}\")"
   ]
  },
  {
   "cell_type": "code",
   "execution_count": 59,
   "id": "b540ac1d",
   "metadata": {},
   "outputs": [],
   "source": [
    "a = b = c = 50"
   ]
  },
  {
   "cell_type": "code",
   "execution_count": 60,
   "id": "d69173d7",
   "metadata": {},
   "outputs": [
    {
     "name": "stdout",
     "output_type": "stream",
     "text": [
      "a = 50, b = 50, c = 50\n"
     ]
    }
   ],
   "source": [
    "print(f\"a = {a}, b = {b}, c = {c}\")"
   ]
  },
  {
   "cell_type": "markdown",
   "id": "4d1c6186",
   "metadata": {},
   "source": [
    "### KEYWORDS AND IDENTIFIER\n",
    "\n",
    "Identifier are the name of the variables to identify it uniquely \n",
    "\n",
    "\n",
    "Keywords are the words which are already defined in python and have specific meaning  and cannot be used as identifiers"
   ]
  },
  {
   "cell_type": "markdown",
   "id": "b0492a78",
   "metadata": {},
   "source": [
    "Rules:\n",
    "1. Identifier should always start with _ or alphabets\n",
    "2. Numbers can be used but after first character\n",
    "3. Special characters are not allowed"
   ]
  },
  {
   "cell_type": "code",
   "execution_count": 66,
   "id": "58a29ee4",
   "metadata": {},
   "outputs": [],
   "source": [
    "_ = 5\n",
    "_1 = 5\n",
    "num1 = 5\n",
    "n1 = 5"
   ]
  },
  {
   "cell_type": "code",
   "execution_count": 62,
   "id": "a98286a2",
   "metadata": {},
   "outputs": [],
   "source": [
    "true = 5"
   ]
  },
  {
   "cell_type": "code",
   "execution_count": 22,
   "id": "5e20ae1c",
   "metadata": {},
   "outputs": [
    {
     "name": "stdout",
     "output_type": "stream",
     "text": [
      "hello\n"
     ]
    }
   ],
   "source": [
    "# def , class, if, else, elif, for while \n",
    "\n",
    "'''hello# hthis is comment\n",
    "hy\n",
    "this\n",
    "is \n",
    "python \n",
    "lecture\n",
    "'''\n",
    "print('hello')"
   ]
  },
  {
   "cell_type": "markdown",
   "id": "bc7baa4a",
   "metadata": {},
   "source": [
    "### USER INPUT"
   ]
  },
  {
   "cell_type": "markdown",
   "id": "9cea29a0",
   "metadata": {},
   "source": [
    "input()"
   ]
  },
  {
   "cell_type": "code",
   "execution_count": 67,
   "id": "5fa5832e",
   "metadata": {},
   "outputs": [
    {
     "data": {
      "text/plain": [
       "'python'"
      ]
     },
     "execution_count": 67,
     "metadata": {},
     "output_type": "execute_result"
    }
   ],
   "source": [
    "input()"
   ]
  },
  {
   "cell_type": "code",
   "execution_count": 74,
   "id": "b64bf1ca",
   "metadata": {},
   "outputs": [],
   "source": [
    "name = input(\"Enter your name\")"
   ]
  },
  {
   "cell_type": "code",
   "execution_count": 69,
   "id": "2e8f8091",
   "metadata": {},
   "outputs": [
    {
     "data": {
      "text/plain": [
       "'Priya'"
      ]
     },
     "execution_count": 69,
     "metadata": {},
     "output_type": "execute_result"
    }
   ],
   "source": [
    "name"
   ]
  },
  {
   "cell_type": "code",
   "execution_count": 75,
   "id": "4e1a9227",
   "metadata": {},
   "outputs": [],
   "source": [
    "age = input(\"Enter your age\")"
   ]
  },
  {
   "cell_type": "code",
   "execution_count": 76,
   "id": "66d8596e",
   "metadata": {},
   "outputs": [
    {
     "data": {
      "text/plain": [
       "'52'"
      ]
     },
     "execution_count": 76,
     "metadata": {},
     "output_type": "execute_result"
    }
   ],
   "source": [
    "age"
   ]
  },
  {
   "cell_type": "code",
   "execution_count": 77,
   "id": "04ddf057",
   "metadata": {},
   "outputs": [
    {
     "data": {
      "text/plain": [
       "str"
      ]
     },
     "execution_count": 77,
     "metadata": {},
     "output_type": "execute_result"
    }
   ],
   "source": [
    "type(age)"
   ]
  },
  {
   "cell_type": "code",
   "execution_count": 78,
   "id": "e54dae47",
   "metadata": {},
   "outputs": [
    {
     "data": {
      "text/plain": [
       "52"
      ]
     },
     "execution_count": 78,
     "metadata": {},
     "output_type": "execute_result"
    }
   ],
   "source": [
    "int(age)"
   ]
  },
  {
   "cell_type": "code",
   "execution_count": 79,
   "id": "d9885d7f",
   "metadata": {},
   "outputs": [
    {
     "data": {
      "text/plain": [
       "52.0"
      ]
     },
     "execution_count": 79,
     "metadata": {},
     "output_type": "execute_result"
    }
   ],
   "source": [
    "float(age)"
   ]
  },
  {
   "cell_type": "code",
   "execution_count": 80,
   "id": "3228c126",
   "metadata": {},
   "outputs": [],
   "source": [
    "age = int(age)"
   ]
  },
  {
   "cell_type": "code",
   "execution_count": 81,
   "id": "1108efff",
   "metadata": {},
   "outputs": [
    {
     "data": {
      "text/plain": [
       "52"
      ]
     },
     "execution_count": 81,
     "metadata": {},
     "output_type": "execute_result"
    }
   ],
   "source": [
    "age"
   ]
  },
  {
   "cell_type": "markdown",
   "id": "a380b8ba",
   "metadata": {},
   "source": [
    "Typecasting -> it is method of converting data of one data type to another"
   ]
  },
  {
   "cell_type": "code",
   "execution_count": 82,
   "id": "ed1ac025",
   "metadata": {},
   "outputs": [],
   "source": [
    "age = int(input(\"enter your age\"))"
   ]
  },
  {
   "cell_type": "code",
   "execution_count": 83,
   "id": "6df5c524",
   "metadata": {},
   "outputs": [
    {
     "data": {
      "text/plain": [
       "52"
      ]
     },
     "execution_count": 83,
     "metadata": {},
     "output_type": "execute_result"
    }
   ],
   "source": [
    "age"
   ]
  },
  {
   "cell_type": "code",
   "execution_count": 1,
   "id": "6d07c138",
   "metadata": {},
   "outputs": [
    {
     "data": {
      "text/plain": [
       "11.3"
      ]
     },
     "execution_count": 1,
     "metadata": {},
     "output_type": "execute_result"
    }
   ],
   "source": [
    "5 + 6.3"
   ]
  },
  {
   "cell_type": "code",
   "execution_count": 3,
   "id": "75a07eab",
   "metadata": {},
   "outputs": [
    {
     "data": {
      "text/plain": [
       "11.3"
      ]
     },
     "execution_count": 3,
     "metadata": {},
     "output_type": "execute_result"
    }
   ],
   "source": [
    "float(5) + 6.3"
   ]
  },
  {
   "cell_type": "code",
   "execution_count": 4,
   "id": "c82a9ae6",
   "metadata": {},
   "outputs": [
    {
     "data": {
      "text/plain": [
       "set()"
      ]
     },
     "execution_count": 4,
     "metadata": {},
     "output_type": "execute_result"
    }
   ],
   "source": [
    "int()\n",
    "float()\n",
    "str()\n",
    "bool()\n",
    "complex()\n",
    "list()\n",
    "tuple()\n",
    "dict()\n",
    "set()"
   ]
  },
  {
   "cell_type": "code",
   "execution_count": 5,
   "id": "3446fb2a",
   "metadata": {},
   "outputs": [
    {
     "ename": "ValueError",
     "evalue": "invalid literal for int() with base 10: 'a'",
     "output_type": "error",
     "traceback": [
      "\u001b[1;31m---------------------------------------------------------------------------\u001b[0m",
      "\u001b[1;31mValueError\u001b[0m                                Traceback (most recent call last)",
      "Cell \u001b[1;32mIn[5], line 1\u001b[0m\n\u001b[1;32m----> 1\u001b[0m \u001b[38;5;28;43mint\u001b[39;49m\u001b[43m(\u001b[49m\u001b[38;5;124;43m'\u001b[39;49m\u001b[38;5;124;43ma\u001b[39;49m\u001b[38;5;124;43m'\u001b[39;49m\u001b[43m)\u001b[49m\n",
      "\u001b[1;31mValueError\u001b[0m: invalid literal for int() with base 10: 'a'"
     ]
    }
   ],
   "source": [
    "int('a')"
   ]
  },
  {
   "cell_type": "code",
   "execution_count": 1,
   "id": "16d2fb0a",
   "metadata": {},
   "outputs": [
    {
     "ename": "ValueError",
     "evalue": "invalid literal for int() with base 10: 'True'",
     "output_type": "error",
     "traceback": [
      "\u001b[1;31m---------------------------------------------------------------------------\u001b[0m",
      "\u001b[1;31mValueError\u001b[0m                                Traceback (most recent call last)",
      "Cell \u001b[1;32mIn[1], line 1\u001b[0m\n\u001b[1;32m----> 1\u001b[0m \u001b[38;5;28;43mint\u001b[39;49m\u001b[43m(\u001b[49m\u001b[38;5;124;43m\"\u001b[39;49m\u001b[38;5;124;43mTrue\u001b[39;49m\u001b[38;5;124;43m\"\u001b[39;49m\u001b[43m)\u001b[49m\n",
      "\u001b[1;31mValueError\u001b[0m: invalid literal for int() with base 10: 'True'"
     ]
    }
   ],
   "source": [
    "int(\"True\")"
   ]
  },
  {
   "cell_type": "code",
   "execution_count": 2,
   "id": "c6d64a34",
   "metadata": {},
   "outputs": [
    {
     "data": {
      "text/plain": [
       "1"
      ]
     },
     "execution_count": 2,
     "metadata": {},
     "output_type": "execute_result"
    }
   ],
   "source": [
    "int(True)"
   ]
  },
  {
   "cell_type": "code",
   "execution_count": 4,
   "id": "85caf27e",
   "metadata": {},
   "outputs": [
    {
     "ename": "ValueError",
     "evalue": "invalid literal for int() with base 10: '15+6j'",
     "output_type": "error",
     "traceback": [
      "\u001b[1;31m---------------------------------------------------------------------------\u001b[0m",
      "\u001b[1;31mValueError\u001b[0m                                Traceback (most recent call last)",
      "Cell \u001b[1;32mIn[4], line 1\u001b[0m\n\u001b[1;32m----> 1\u001b[0m \u001b[38;5;28;43mint\u001b[39;49m\u001b[43m(\u001b[49m\u001b[38;5;124;43m'\u001b[39;49m\u001b[38;5;124;43m15+6j\u001b[39;49m\u001b[38;5;124;43m'\u001b[39;49m\u001b[43m)\u001b[49m\n",
      "\u001b[1;31mValueError\u001b[0m: invalid literal for int() with base 10: '15+6j'"
     ]
    }
   ],
   "source": [
    "int('15+6j')"
   ]
  },
  {
   "cell_type": "code",
   "execution_count": 5,
   "id": "2cc43b7f",
   "metadata": {},
   "outputs": [
    {
     "ename": "TypeError",
     "evalue": "int() argument must be a string, a bytes-like object or a real number, not 'complex'",
     "output_type": "error",
     "traceback": [
      "\u001b[1;31m---------------------------------------------------------------------------\u001b[0m",
      "\u001b[1;31mTypeError\u001b[0m                                 Traceback (most recent call last)",
      "Cell \u001b[1;32mIn[5], line 1\u001b[0m\n\u001b[1;32m----> 1\u001b[0m \u001b[38;5;28;43mint\u001b[39;49m\u001b[43m(\u001b[49m\u001b[38;5;241;43m5\u001b[39;49m\u001b[38;5;241;43m+\u001b[39;49m\u001b[38;5;241;43m6\u001b[39;49m\u001b[43mj\u001b[49m\u001b[43m)\u001b[49m\n",
      "\u001b[1;31mTypeError\u001b[0m: int() argument must be a string, a bytes-like object or a real number, not 'complex'"
     ]
    }
   ],
   "source": [
    "int(5+6j)"
   ]
  },
  {
   "cell_type": "code",
   "execution_count": 6,
   "id": "64c4647a",
   "metadata": {},
   "outputs": [
    {
     "data": {
      "text/plain": [
       "True"
      ]
     },
     "execution_count": 6,
     "metadata": {},
     "output_type": "execute_result"
    }
   ],
   "source": [
    "bool(56)"
   ]
  },
  {
   "cell_type": "code",
   "execution_count": 12,
   "id": "ac3dedd8",
   "metadata": {},
   "outputs": [
    {
     "data": {
      "text/plain": [
       "(1+0j)"
      ]
     },
     "execution_count": 12,
     "metadata": {},
     "output_type": "execute_result"
    }
   ],
   "source": [
    "complex(True)"
   ]
  },
  {
   "cell_type": "markdown",
   "id": "54b1dd15",
   "metadata": {},
   "source": [
    "- int -> all data types\n",
    "\n",
    "- all data types -> str\n",
    "\n",
    "- all data types -> boolean\n",
    "\n",
    "- str (int, float) -> int,float\n",
    "\n",
    "- float -> all data types \n",
    "\n",
    "- complex -> str, boolean\n",
    "\n",
    "- boolean -> all data types"
   ]
  },
  {
   "cell_type": "code",
   "execution_count": 10,
   "id": "1450b6d9",
   "metadata": {},
   "outputs": [
    {
     "data": {
      "text/plain": [
       "True"
      ]
     },
     "execution_count": 10,
     "metadata": {},
     "output_type": "execute_result"
    }
   ],
   "source": [
    "bool(5+6j)"
   ]
  },
  {
   "cell_type": "code",
   "execution_count": 11,
   "id": "2beea9ee",
   "metadata": {},
   "outputs": [
    {
     "data": {
      "text/plain": [
       "True"
      ]
     },
     "execution_count": 11,
     "metadata": {},
     "output_type": "execute_result"
    }
   ],
   "source": [
    "# int -> str\n",
    "# str -> !int\n",
    "bool(' ')"
   ]
  },
  {
   "cell_type": "code",
   "execution_count": 12,
   "id": "e9c21a65",
   "metadata": {},
   "outputs": [
    {
     "data": {
      "text/plain": [
       "1"
      ]
     },
     "execution_count": 12,
     "metadata": {},
     "output_type": "execute_result"
    }
   ],
   "source": [
    "int(True)"
   ]
  },
  {
   "cell_type": "code",
   "execution_count": 13,
   "id": "515c73c8",
   "metadata": {},
   "outputs": [
    {
     "data": {
      "text/plain": [
       "0"
      ]
     },
     "execution_count": 13,
     "metadata": {},
     "output_type": "execute_result"
    }
   ],
   "source": [
    "int(False)"
   ]
  },
  {
   "cell_type": "code",
   "execution_count": 14,
   "id": "e77f9ab8",
   "metadata": {},
   "outputs": [
    {
     "data": {
      "text/plain": [
       "1.0"
      ]
     },
     "execution_count": 14,
     "metadata": {},
     "output_type": "execute_result"
    }
   ],
   "source": [
    "float(True)"
   ]
  },
  {
   "cell_type": "code",
   "execution_count": 11,
   "id": "e05dfc5f",
   "metadata": {},
   "outputs": [
    {
     "data": {
      "text/plain": [
       "(5.02+0j)"
      ]
     },
     "execution_count": 11,
     "metadata": {},
     "output_type": "execute_result"
    }
   ],
   "source": [
    "complex(5.02)"
   ]
  },
  {
   "cell_type": "code",
   "execution_count": null,
   "id": "79ff2bfb",
   "metadata": {},
   "outputs": [
    {
     "ename": "ValueError",
     "evalue": "invalid literal for int() with base 10: 'a'",
     "output_type": "error",
     "traceback": [
      "\u001b[1;31m---------------------------------------------------------------------------\u001b[0m",
      "\u001b[1;31mValueError\u001b[0m                                Traceback (most recent call last)",
      "Cell \u001b[1;32mIn[16], line 1\u001b[0m\n\u001b[1;32m----> 1\u001b[0m \u001b[38;5;28mprint\u001b[39m(\u001b[38;5;241m25\u001b[39m,\u001b[38;5;124m'\u001b[39m\u001b[38;5;124ma\u001b[39m\u001b[38;5;124m'\u001b[39m,\u001b[38;5;28;43mint\u001b[39;49m\u001b[43m(\u001b[49m\u001b[38;5;124;43m'\u001b[39;49m\u001b[38;5;124;43ma\u001b[39;49m\u001b[38;5;124;43m'\u001b[39;49m\u001b[43m)\u001b[49m)\n",
      "\u001b[1;31mValueError\u001b[0m: invalid literal for int() with base 10: 'a'"
     ]
    }
   ],
   "source": [
    "# print(25,'a',int('a'))"
   ]
  },
  {
   "cell_type": "code",
   "execution_count": null,
   "id": "bd9e6308",
   "metadata": {},
   "outputs": [
    {
     "ename": "TypeError",
     "evalue": "int() argument must be a string, a bytes-like object or a real number, not 'list'",
     "output_type": "error",
     "traceback": [
      "\u001b[1;31m---------------------------------------------------------------------------\u001b[0m",
      "\u001b[1;31mTypeError\u001b[0m                                 Traceback (most recent call last)",
      "Cell \u001b[1;32mIn[17], line 1\u001b[0m\n\u001b[1;32m----> 1\u001b[0m \u001b[38;5;28;43mint\u001b[39;49m\u001b[43m(\u001b[49m\u001b[43m[\u001b[49m\u001b[38;5;241;43m1\u001b[39;49m\u001b[43m,\u001b[49m\u001b[38;5;241;43m2\u001b[39;49m\u001b[43m,\u001b[49m\u001b[38;5;241;43m3\u001b[39;49m\u001b[43m,\u001b[49m\u001b[38;5;241;43m4\u001b[39;49m\u001b[43m,\u001b[49m\u001b[38;5;241;43m5\u001b[39;49m\u001b[43m]\u001b[49m\u001b[43m)\u001b[49m\n",
      "\u001b[1;31mTypeError\u001b[0m: int() argument must be a string, a bytes-like object or a real number, not 'list'"
     ]
    }
   ],
   "source": [
    "# int([1,2,3,4,5])"
   ]
  },
  {
   "cell_type": "code",
   "execution_count": 19,
   "id": "ba18d5e7",
   "metadata": {},
   "outputs": [
    {
     "data": {
      "text/plain": [
       "0j"
      ]
     },
     "execution_count": 19,
     "metadata": {},
     "output_type": "execute_result"
    }
   ],
   "source": [
    "complex(False)"
   ]
  },
  {
   "cell_type": "code",
   "execution_count": 20,
   "id": "7f99fcd2",
   "metadata": {},
   "outputs": [
    {
     "data": {
      "text/plain": [
       "25"
      ]
     },
     "execution_count": 20,
     "metadata": {},
     "output_type": "execute_result"
    }
   ],
   "source": [
    "int('25')"
   ]
  },
  {
   "cell_type": "markdown",
   "id": "652a06af",
   "metadata": {},
   "source": [
    "### COMMENTS\n",
    "\n",
    "comments are the code that are not going to be executed"
   ]
  },
  {
   "cell_type": "markdown",
   "id": "c86554fc",
   "metadata": {},
   "source": [
    "### OPERATORS\n",
    "\n",
    "operators are used to perform operations on operands\n",
    "\n",
    "\n",
    "1. Arithmetic\n",
    "2. Relational\n",
    "3. Logical\n",
    "4. Bitwise\n",
    "5. Assignment\n",
    "6. Membership "
   ]
  },
  {
   "cell_type": "code",
   "execution_count": null,
   "id": "52d1481f",
   "metadata": {},
   "outputs": [],
   "source": [
    "5 + 6 = 11\n",
    "# 5,6 -> operands\n",
    "# + -> operator\n",
    "# operation-> addition"
   ]
  },
  {
   "cell_type": "code",
   "execution_count": 24,
   "id": "e1dae0c0",
   "metadata": {},
   "outputs": [
    {
     "name": "stdout",
     "output_type": "stream",
     "text": [
      "Addition of a & b is 7\n",
      "Subtraction of a & b is 3\n",
      "Multiplication of a & b is 10\n",
      "Division of a & b is 2.5\n",
      "Floor division of a & b is 2\n",
      "Modulas of a & b is 1\n",
      "a raised  b is 25\n",
      "Square  of a  25\n"
     ]
    }
   ],
   "source": [
    "## arithmetic\n",
    "\n",
    "a = 5\n",
    "b = 2\n",
    "\n",
    "print(F\"Addition of a & b is {a+b}\")\n",
    "\n",
    "print(F\"Subtraction of a & b is {a-b}\")\n",
    "\n",
    "\n",
    "print(F\"Multiplication of a & b is {a*b}\")\n",
    "\n",
    "print(F\"Division of a & b is {a/b}\")\n",
    "\n",
    "print(F\"Floor division of a & b is {a//b}\")\n",
    "\n",
    "print(F\"Modulas of a & b is {a%b}\")\n",
    "\n",
    "\n",
    "print(F\"a raised  b is {a**b}\")\n",
    "print(F\"Square  of a  {a**2}\")"
   ]
  },
  {
   "cell_type": "code",
   "execution_count": 8,
   "id": "485a1d1c",
   "metadata": {},
   "outputs": [],
   "source": [
    "num = int(input(\"Enter any 3 digit number\"))"
   ]
  },
  {
   "cell_type": "code",
   "execution_count": 9,
   "id": "84cf55d3",
   "metadata": {},
   "outputs": [
    {
     "data": {
      "text/plain": [
       "123"
      ]
     },
     "execution_count": 9,
     "metadata": {},
     "output_type": "execute_result"
    }
   ],
   "source": [
    "num"
   ]
  },
  {
   "cell_type": "code",
   "execution_count": 10,
   "id": "6efd129c",
   "metadata": {},
   "outputs": [],
   "source": [
    "ones = num %10\n",
    "tens = num//10%10\n",
    "hundres = num//100"
   ]
  },
  {
   "cell_type": "code",
   "execution_count": 11,
   "id": "973b8c56",
   "metadata": {},
   "outputs": [
    {
     "data": {
      "text/plain": [
       "6"
      ]
     },
     "execution_count": 11,
     "metadata": {},
     "output_type": "execute_result"
    }
   ],
   "source": [
    "ones + tens+ hundres"
   ]
  },
  {
   "cell_type": "code",
   "execution_count": null,
   "id": "e600aede",
   "metadata": {},
   "outputs": [],
   "source": [
    "## logical operator "
   ]
  },
  {
   "cell_type": "code",
   "execution_count": 12,
   "id": "b0933be1",
   "metadata": {},
   "outputs": [
    {
     "data": {
      "text/plain": [
       "1"
      ]
     },
     "execution_count": 12,
     "metadata": {},
     "output_type": "execute_result"
    }
   ],
   "source": [
    "# and \n",
    "1 and 1"
   ]
  },
  {
   "cell_type": "code",
   "execution_count": 13,
   "id": "b51e919f",
   "metadata": {},
   "outputs": [
    {
     "data": {
      "text/plain": [
       "0"
      ]
     },
     "execution_count": 13,
     "metadata": {},
     "output_type": "execute_result"
    }
   ],
   "source": [
    "1 and 0"
   ]
  },
  {
   "cell_type": "code",
   "execution_count": 14,
   "id": "31813aa1",
   "metadata": {},
   "outputs": [
    {
     "data": {
      "text/plain": [
       "0"
      ]
     },
     "execution_count": 14,
     "metadata": {},
     "output_type": "execute_result"
    }
   ],
   "source": [
    "0 and 1"
   ]
  },
  {
   "cell_type": "code",
   "execution_count": 15,
   "id": "67d3daba",
   "metadata": {},
   "outputs": [
    {
     "data": {
      "text/plain": [
       "0"
      ]
     },
     "execution_count": 15,
     "metadata": {},
     "output_type": "execute_result"
    }
   ],
   "source": [
    "0 and  0"
   ]
  },
  {
   "cell_type": "code",
   "execution_count": 16,
   "id": "163a2885",
   "metadata": {},
   "outputs": [
    {
     "data": {
      "text/plain": [
       "0"
      ]
     },
     "execution_count": 16,
     "metadata": {},
     "output_type": "execute_result"
    }
   ],
   "source": [
    "5 and 0"
   ]
  },
  {
   "cell_type": "code",
   "execution_count": 17,
   "id": "2cdb1e54",
   "metadata": {},
   "outputs": [
    {
     "data": {
      "text/plain": [
       "9"
      ]
     },
     "execution_count": 17,
     "metadata": {},
     "output_type": "execute_result"
    }
   ],
   "source": [
    "5 and  9"
   ]
  },
  {
   "cell_type": "code",
   "execution_count": 18,
   "id": "16ee6bf8",
   "metadata": {},
   "outputs": [
    {
     "data": {
      "text/plain": [
       "-3"
      ]
     },
     "execution_count": 18,
     "metadata": {},
     "output_type": "execute_result"
    }
   ],
   "source": [
    "2 and -3"
   ]
  },
  {
   "cell_type": "code",
   "execution_count": 19,
   "id": "71f8d37a",
   "metadata": {},
   "outputs": [
    {
     "data": {
      "text/plain": [
       "5"
      ]
     },
     "execution_count": 19,
     "metadata": {},
     "output_type": "execute_result"
    }
   ],
   "source": [
    "2 and 3 and 5"
   ]
  },
  {
   "cell_type": "code",
   "execution_count": 20,
   "id": "fcdcdb4b",
   "metadata": {},
   "outputs": [
    {
     "data": {
      "text/plain": [
       "0.5"
      ]
     },
     "execution_count": 20,
     "metadata": {},
     "output_type": "execute_result"
    }
   ],
   "source": [
    "2.5 and 0.5"
   ]
  },
  {
   "cell_type": "code",
   "execution_count": 21,
   "id": "b54774f2",
   "metadata": {},
   "outputs": [
    {
     "data": {
      "text/plain": [
       "'World'"
      ]
     },
     "execution_count": 21,
     "metadata": {},
     "output_type": "execute_result"
    }
   ],
   "source": [
    "'Hello' and 'World'"
   ]
  },
  {
   "cell_type": "code",
   "execution_count": 22,
   "id": "725c5979",
   "metadata": {},
   "outputs": [
    {
     "data": {
      "text/plain": [
       "0.5"
      ]
     },
     "execution_count": 22,
     "metadata": {},
     "output_type": "execute_result"
    }
   ],
   "source": [
    "'Hello' and 0.5"
   ]
  },
  {
   "cell_type": "code",
   "execution_count": 24,
   "id": "a7c4e990",
   "metadata": {},
   "outputs": [
    {
     "data": {
      "text/plain": [
       "''"
      ]
     },
     "execution_count": 24,
     "metadata": {},
     "output_type": "execute_result"
    }
   ],
   "source": [
    "'' and 0"
   ]
  },
  {
   "cell_type": "code",
   "execution_count": 25,
   "id": "617372d1",
   "metadata": {},
   "outputs": [],
   "source": [
    "## OR "
   ]
  },
  {
   "cell_type": "code",
   "execution_count": 26,
   "id": "f322e3e6",
   "metadata": {},
   "outputs": [
    {
     "data": {
      "text/plain": [
       "1"
      ]
     },
     "execution_count": 26,
     "metadata": {},
     "output_type": "execute_result"
    }
   ],
   "source": [
    "0 or 1"
   ]
  },
  {
   "cell_type": "code",
   "execution_count": null,
   "id": "1ef269e4",
   "metadata": {},
   "outputs": [],
   "source": [
    "\"hello\" or 5"
   ]
  },
  {
   "cell_type": "code",
   "execution_count": 27,
   "id": "8cabf52d",
   "metadata": {},
   "outputs": [
    {
     "data": {
      "text/plain": [
       "5"
      ]
     },
     "execution_count": 27,
     "metadata": {},
     "output_type": "execute_result"
    }
   ],
   "source": [
    "'' or 5"
   ]
  },
  {
   "cell_type": "code",
   "execution_count": 28,
   "id": "d0552a25",
   "metadata": {},
   "outputs": [],
   "source": [
    "## not "
   ]
  },
  {
   "cell_type": "code",
   "execution_count": 29,
   "id": "73f3a101",
   "metadata": {},
   "outputs": [
    {
     "data": {
      "text/plain": [
       "False"
      ]
     },
     "execution_count": 29,
     "metadata": {},
     "output_type": "execute_result"
    }
   ],
   "source": [
    "not 5"
   ]
  },
  {
   "cell_type": "code",
   "execution_count": 30,
   "id": "a9b4d56f",
   "metadata": {},
   "outputs": [
    {
     "data": {
      "text/plain": [
       "True"
      ]
     },
     "execution_count": 30,
     "metadata": {},
     "output_type": "execute_result"
    }
   ],
   "source": [
    "not 0"
   ]
  },
  {
   "cell_type": "code",
   "execution_count": 31,
   "id": "fa6df24b",
   "metadata": {},
   "outputs": [
    {
     "data": {
      "text/plain": [
       "True"
      ]
     },
     "execution_count": 31,
     "metadata": {},
     "output_type": "execute_result"
    }
   ],
   "source": [
    "not ''"
   ]
  },
  {
   "cell_type": "code",
   "execution_count": null,
   "id": "417ec900",
   "metadata": {},
   "outputs": [],
   "source": []
  },
  {
   "cell_type": "code",
   "execution_count": 1,
   "id": "ed437d95",
   "metadata": {},
   "outputs": [
    {
     "data": {
      "text/plain": [
       "False"
      ]
     },
     "execution_count": 1,
     "metadata": {},
     "output_type": "execute_result"
    }
   ],
   "source": [
    "not 'hello' and 'world'"
   ]
  },
  {
   "cell_type": "code",
   "execution_count": 27,
   "id": "778eb7de",
   "metadata": {},
   "outputs": [],
   "source": [
    "## relational "
   ]
  },
  {
   "cell_type": "code",
   "execution_count": 28,
   "id": "137cc52c",
   "metadata": {},
   "outputs": [
    {
     "data": {
      "text/plain": [
       "True"
      ]
     },
     "execution_count": 28,
     "metadata": {},
     "output_type": "execute_result"
    }
   ],
   "source": [
    "a>b"
   ]
  },
  {
   "cell_type": "code",
   "execution_count": 29,
   "id": "5939f5de",
   "metadata": {},
   "outputs": [
    {
     "data": {
      "text/plain": [
       "True"
      ]
     },
     "execution_count": 29,
     "metadata": {},
     "output_type": "execute_result"
    }
   ],
   "source": [
    "a>=b"
   ]
  },
  {
   "cell_type": "code",
   "execution_count": 30,
   "id": "fee9cc2e",
   "metadata": {},
   "outputs": [
    {
     "data": {
      "text/plain": [
       "False"
      ]
     },
     "execution_count": 30,
     "metadata": {},
     "output_type": "execute_result"
    }
   ],
   "source": [
    "a<=b"
   ]
  },
  {
   "cell_type": "code",
   "execution_count": 31,
   "id": "8f039cdf",
   "metadata": {},
   "outputs": [
    {
     "data": {
      "text/plain": [
       "False"
      ]
     },
     "execution_count": 31,
     "metadata": {},
     "output_type": "execute_result"
    }
   ],
   "source": [
    "a<b"
   ]
  },
  {
   "cell_type": "code",
   "execution_count": 34,
   "id": "5f6dea48",
   "metadata": {},
   "outputs": [
    {
     "data": {
      "text/plain": [
       "True"
      ]
     },
     "execution_count": 34,
     "metadata": {},
     "output_type": "execute_result"
    }
   ],
   "source": [
    "a == b"
   ]
  },
  {
   "cell_type": "code",
   "execution_count": 33,
   "id": "095c3c69",
   "metadata": {},
   "outputs": [],
   "source": [
    "a = b "
   ]
  },
  {
   "cell_type": "code",
   "execution_count": 35,
   "id": "503c2e53",
   "metadata": {},
   "outputs": [
    {
     "data": {
      "text/plain": [
       "False"
      ]
     },
     "execution_count": 35,
     "metadata": {},
     "output_type": "execute_result"
    }
   ],
   "source": [
    "a != b "
   ]
  },
  {
   "cell_type": "code",
   "execution_count": 2,
   "id": "68a24015",
   "metadata": {},
   "outputs": [
    {
     "data": {
      "text/plain": [
       "4"
      ]
     },
     "execution_count": 2,
     "metadata": {},
     "output_type": "execute_result"
    }
   ],
   "source": [
    "# bitwise \n",
    "4 & 5"
   ]
  },
  {
   "cell_type": "code",
   "execution_count": 3,
   "id": "acb83552",
   "metadata": {},
   "outputs": [
    {
     "data": {
      "text/plain": [
       "5"
      ]
     },
     "execution_count": 3,
     "metadata": {},
     "output_type": "execute_result"
    }
   ],
   "source": [
    "4 | 5"
   ]
  },
  {
   "cell_type": "code",
   "execution_count": 4,
   "id": "8eb2aaaa",
   "metadata": {},
   "outputs": [
    {
     "data": {
      "text/plain": [
       "-2"
      ]
     },
     "execution_count": 4,
     "metadata": {},
     "output_type": "execute_result"
    }
   ],
   "source": [
    "~1"
   ]
  },
  {
   "cell_type": "code",
   "execution_count": 5,
   "id": "78e15f5a",
   "metadata": {},
   "outputs": [
    {
     "data": {
      "text/plain": [
       "2"
      ]
     },
     "execution_count": 5,
     "metadata": {},
     "output_type": "execute_result"
    }
   ],
   "source": [
    "4>>1"
   ]
  },
  {
   "cell_type": "code",
   "execution_count": 6,
   "id": "baa07a12",
   "metadata": {},
   "outputs": [
    {
     "data": {
      "text/plain": [
       "1"
      ]
     },
     "execution_count": 6,
     "metadata": {},
     "output_type": "execute_result"
    }
   ],
   "source": [
    "4>>2"
   ]
  },
  {
   "cell_type": "code",
   "execution_count": 7,
   "id": "e03d9581",
   "metadata": {},
   "outputs": [
    {
     "data": {
      "text/plain": [
       "10"
      ]
     },
     "execution_count": 7,
     "metadata": {},
     "output_type": "execute_result"
    }
   ],
   "source": [
    "5<<1"
   ]
  },
  {
   "cell_type": "code",
   "execution_count": 8,
   "id": "a660241f",
   "metadata": {},
   "outputs": [
    {
     "data": {
      "text/plain": [
       "20"
      ]
     },
     "execution_count": 8,
     "metadata": {},
     "output_type": "execute_result"
    }
   ],
   "source": [
    "5<<2"
   ]
  },
  {
   "cell_type": "code",
   "execution_count": 9,
   "id": "382c61a5",
   "metadata": {},
   "outputs": [],
   "source": [
    "## assignment "
   ]
  },
  {
   "cell_type": "code",
   "execution_count": 10,
   "id": "96e2716a",
   "metadata": {},
   "outputs": [],
   "source": [
    "a = 2"
   ]
  },
  {
   "cell_type": "code",
   "execution_count": 11,
   "id": "f98e1055",
   "metadata": {},
   "outputs": [],
   "source": [
    "a = a+2 #=> a+=2\n",
    "a-=2 # a=a-2\n",
    "a*=2 # a=a *2\n"
   ]
  },
  {
   "cell_type": "code",
   "execution_count": 12,
   "id": "a650e29f",
   "metadata": {},
   "outputs": [
    {
     "data": {
      "text/plain": [
       "4"
      ]
     },
     "execution_count": 12,
     "metadata": {},
     "output_type": "execute_result"
    }
   ],
   "source": [
    "a"
   ]
  },
  {
   "cell_type": "code",
   "execution_count": 13,
   "id": "db6719f6",
   "metadata": {},
   "outputs": [
    {
     "data": {
      "text/plain": [
       "False"
      ]
     },
     "execution_count": 13,
     "metadata": {},
     "output_type": "execute_result"
    }
   ],
   "source": [
    "## membership\n",
    "\n",
    "'a' in 'python'"
   ]
  },
  {
   "cell_type": "code",
   "execution_count": 14,
   "id": "3e96d5e1",
   "metadata": {},
   "outputs": [
    {
     "data": {
      "text/plain": [
       "True"
      ]
     },
     "execution_count": 14,
     "metadata": {},
     "output_type": "execute_result"
    }
   ],
   "source": [
    "'o' in 'python'"
   ]
  },
  {
   "cell_type": "code",
   "execution_count": 15,
   "id": "df99345a",
   "metadata": {},
   "outputs": [
    {
     "data": {
      "text/plain": [
       "True"
      ]
     },
     "execution_count": 15,
     "metadata": {},
     "output_type": "execute_result"
    }
   ],
   "source": [
    "5 in [1,2,3,4,5]"
   ]
  },
  {
   "cell_type": "code",
   "execution_count": 16,
   "id": "a55cc087",
   "metadata": {},
   "outputs": [
    {
     "data": {
      "text/plain": [
       "True"
      ]
     },
     "execution_count": 16,
     "metadata": {},
     "output_type": "execute_result"
    }
   ],
   "source": [
    "'a' not in 'python'"
   ]
  },
  {
   "cell_type": "code",
   "execution_count": 17,
   "id": "99cbbe4b",
   "metadata": {},
   "outputs": [],
   "source": [
    "# Take a 3-digit number input from the user and print its reverse"
   ]
  },
  {
   "cell_type": "code",
   "execution_count": 19,
   "id": "9c53288b",
   "metadata": {},
   "outputs": [],
   "source": [
    " # An Armstrong number is a number in which the sum of the cubes of its digits is equal\n",
    "# to the number itself (e.g., 153 because \n",
    "\n",
    "#(1 **3+5 **3+3 **3=153). Check if a 3-digit number is an Armstrong number"
   ]
  },
  {
   "cell_type": "code",
   "execution_count": 20,
   "id": "5eaeb14e",
   "metadata": {},
   "outputs": [],
   "source": [
    "# Take two numbers as input f?rom the user and swap their values using \n",
    "# only arithmetic operators (no temporary variables).\n"
   ]
  },
  {
   "cell_type": "markdown",
   "id": "8e2621fd",
   "metadata": {},
   "source": [
    "## CONTROL FLOW STATEMENTS\n",
    "\n",
    "it controls the flow of execution, or control flow statements are used to change the flow of execution\n",
    "\n",
    "Three types of Control flow statements are there:\n",
    "1. Conditional Statements\n",
    "2. Looping Statements\n",
    "3. Loop Control Statements/Jump Statements"
   ]
  },
  {
   "cell_type": "markdown",
   "id": "f284b6d7",
   "metadata": {},
   "source": [
    "### CONDITIONAL STATEMENTS\n",
    "\n"
   ]
  },
  {
   "cell_type": "code",
   "execution_count": 22,
   "id": "0637d12a",
   "metadata": {},
   "outputs": [],
   "source": [
    "a = 5\n",
    "b = 9"
   ]
  },
  {
   "cell_type": "code",
   "execution_count": 23,
   "id": "ed038464",
   "metadata": {},
   "outputs": [
    {
     "name": "stdout",
     "output_type": "stream",
     "text": [
      "9 is larger\n"
     ]
    }
   ],
   "source": [
    "if a > b:\n",
    "    print(f\"{a} is larger\")\n",
    "else:\n",
    "    print(f\"{b} is larger\")"
   ]
  },
  {
   "cell_type": "code",
   "execution_count": null,
   "id": "70229c2f",
   "metadata": {},
   "outputs": [],
   "source": [
    "#indentation"
   ]
  },
  {
   "cell_type": "code",
   "execution_count": 1,
   "id": "555cd8d8",
   "metadata": {},
   "outputs": [],
   "source": [
    "# 4. Write a program to calculate the electricity bill (accept number of unit from the user according to the following criteria.\n",
    "# \tUnit \t\t\t\t\t               Price\n",
    "# First 100 units\t\t\t           no charge\n",
    "# Next 100 units\t               Rs 5 per unit\n",
    "# After 200 units \t\t           Rs 10 per unit\n",
    "# 350 -> 100 -> free\n",
    "# 250 -> 100 -> 5\n",
    "# 150 -> 10"
   ]
  },
  {
   "cell_type": "code",
   "execution_count": 4,
   "id": "83d3743d",
   "metadata": {},
   "outputs": [],
   "source": [
    "units = int(input(\"enter your units\"))\n",
    "bill = 0\n",
    "if units <=100:\n",
    "    bill = 0\n",
    "elif units > 100 and units <=200:\n",
    "    bill = (units - 100)*5\n",
    "    \n",
    "elif units > 200 and units <=400:\n",
    "    bill = (100* 5) + (units - 200) * 10"
   ]
  },
  {
   "cell_type": "code",
   "execution_count": 5,
   "id": "0d197eba",
   "metadata": {},
   "outputs": [
    {
     "data": {
      "text/plain": [
       "2000"
      ]
     },
     "execution_count": 5,
     "metadata": {},
     "output_type": "execute_result"
    }
   ],
   "source": [
    "bill"
   ]
  },
  {
   "cell_type": "markdown",
   "id": "4e43da34",
   "metadata": {},
   "source": []
  },
  {
   "cell_type": "code",
   "execution_count": 8,
   "id": "b63acf58",
   "metadata": {},
   "outputs": [
    {
     "name": "stdout",
     "output_type": "stream",
     "text": [
      "login successful\n"
     ]
    }
   ],
   "source": [
    "email = 'python@gmail.com'\n",
    "pw='python@1234'\n",
    "\n",
    "user_email = input(\"enter your mail\")\n",
    "user_pw = input(\"enter your password\")\n",
    "\n",
    "if email == user_email and pw == user_pw:\n",
    "    print(\"login successful\")\n",
    "elif email == user_email and pw != user_pw:\n",
    "    user_pw = input(\"your pw is incorrect, please enter again\")\n",
    "    if pw == user_pw:\n",
    "        print(\"login\")\n",
    "    else:\n",
    "        print(\"try after some time\")\n",
    "else:\n",
    "    print(\"invalid credentials\")"
   ]
  },
  {
   "cell_type": "markdown",
   "id": "300d6226",
   "metadata": {},
   "source": [
    "### LOOPs"
   ]
  },
  {
   "cell_type": "code",
   "execution_count": 10,
   "id": "b642b45b",
   "metadata": {},
   "outputs": [
    {
     "name": "stdout",
     "output_type": "stream",
     "text": [
      "0\n",
      "1\n",
      "2\n",
      "3\n",
      "4\n",
      "5\n",
      "6\n",
      "7\n",
      "8\n",
      "9\n"
     ]
    }
   ],
   "source": [
    "i = 0\n",
    "while i < 10:\n",
    "    print(i)\n",
    "    i+=1"
   ]
  },
  {
   "cell_type": "code",
   "execution_count": 11,
   "id": "cce6b61e",
   "metadata": {},
   "outputs": [
    {
     "name": "stdout",
     "output_type": "stream",
     "text": [
      "0\n",
      "1\n",
      "2\n",
      "3\n",
      "4\n",
      "5\n",
      "6\n",
      "7\n",
      "8\n",
      "9\n",
      "10\n",
      "11\n",
      "12\n",
      "13\n",
      "14\n",
      "15\n",
      "16\n",
      "17\n",
      "18\n",
      "19\n",
      "20\n",
      "21\n",
      "22\n",
      "23\n",
      "24\n",
      "25\n",
      "26\n",
      "27\n",
      "28\n",
      "29\n",
      "30\n",
      "31\n",
      "32\n",
      "33\n",
      "34\n",
      "35\n",
      "36\n",
      "37\n",
      "38\n",
      "39\n",
      "40\n",
      "41\n",
      "42\n",
      "43\n",
      "44\n",
      "45\n",
      "46\n",
      "47\n",
      "48\n",
      "49\n",
      "50\n",
      "51\n",
      "52\n",
      "53\n",
      "54\n",
      "55\n",
      "56\n",
      "57\n",
      "58\n",
      "59\n",
      "60\n",
      "61\n",
      "62\n",
      "63\n",
      "64\n",
      "65\n",
      "66\n",
      "67\n",
      "68\n",
      "69\n",
      "70\n",
      "71\n",
      "72\n",
      "73\n",
      "74\n",
      "75\n",
      "76\n",
      "77\n",
      "78\n",
      "79\n",
      "80\n",
      "81\n",
      "82\n",
      "83\n",
      "84\n",
      "85\n",
      "86\n",
      "87\n",
      "88\n",
      "89\n",
      "90\n",
      "91\n",
      "92\n",
      "93\n",
      "94\n",
      "95\n",
      "96\n",
      "97\n",
      "98\n",
      "99\n"
     ]
    }
   ],
   "source": [
    "i = 0\n",
    "while i < 100:\n",
    "    print(i)\n",
    "    i+=1"
   ]
  },
  {
   "cell_type": "code",
   "execution_count": 13,
   "id": "6b035573",
   "metadata": {},
   "outputs": [
    {
     "name": "stdout",
     "output_type": "stream",
     "text": [
      "256 * 1 = 256\n",
      "256 * 2 = 512\n",
      "256 * 3 = 768\n",
      "256 * 4 = 1024\n",
      "256 * 5 = 1280\n",
      "256 * 6 = 1536\n",
      "256 * 7 = 1792\n",
      "256 * 8 = 2048\n",
      "256 * 9 = 2304\n",
      "256 * 10 = 2560\n"
     ]
    }
   ],
   "source": [
    "num = int(input(\"enter any num\"))\n",
    "i = 1\n",
    "while i <=10:\n",
    "    print(f\"{num} * {i} = {num * i}\")\n",
    "    i+=1"
   ]
  },
  {
   "cell_type": "code",
   "execution_count": 1,
   "id": "db7682de",
   "metadata": {},
   "outputs": [],
   "source": [
    "# WAP to check whether a number is prime or not \n"
   ]
  },
  {
   "cell_type": "code",
   "execution_count": null,
   "id": "876f67d6",
   "metadata": {},
   "outputs": [
    {
     "name": "stdout",
     "output_type": "stream",
     "text": [
      "17 is prime\n"
     ]
    }
   ],
   "source": [
    "num  = int(input(\"enter a number\"))\n",
    "\n",
    "if num <=1:\n",
    "    print(f\"{num} is not prime\")\n",
    "else:\n",
    "    i = 2\n",
    "    prime = True\n",
    "    while i <=num//2:\n",
    "        if num%i == 0:\n",
    "            prime=False\n",
    "            break\n",
    "\n",
    "        i+=1\n",
    "    if prime :\n",
    "        print(f\"{num} is prime\")\n",
    "    else:\n",
    "        print(f\"{num} is not prime\")"
   ]
  },
  {
   "cell_type": "markdown",
   "id": "1cdf8cd7",
   "metadata": {},
   "source": [
    "WAP to display sum of odd numbers and even numbers separately that fall between two numbers accepted from the user(including both numbers) using while loop"
   ]
  },
  {
   "cell_type": "code",
   "execution_count": 9,
   "id": "64e59cb0",
   "metadata": {},
   "outputs": [
    {
     "name": "stdout",
     "output_type": "stream",
     "text": [
      "60 is the sum of odd numbers and 50 is the sum of even numbers\n"
     ]
    }
   ],
   "source": [
    "start = int(input(\"enter a starting number\"))\n",
    "end = int(input(\"enter a ending  number\"))\n",
    "\n",
    "sum_of_odd = 0\n",
    "sum_of_even= 0\n",
    "\n",
    "i = start\n",
    "while i<=end:\n",
    "    if i % 2 == 0:\n",
    "        sum_of_even+=i\n",
    "    else:\n",
    "        sum_of_odd+=i\n",
    "    i+=1\n",
    "\n",
    "print(f\"{sum_of_odd} is the sum of odd numbers and {sum_of_even} is the sum of even numbers\")"
   ]
  },
  {
   "cell_type": "code",
   "execution_count": 10,
   "id": "637e7c42",
   "metadata": {},
   "outputs": [
    {
     "data": {
      "text/plain": [
       "(6, 8, 10, 12, 14)"
      ]
     },
     "execution_count": 10,
     "metadata": {},
     "output_type": "execute_result"
    }
   ],
   "source": [
    "5,7,9,11,13,15\n",
    "6,8,10,12,14\n"
   ]
  },
  {
   "cell_type": "code",
   "execution_count": 11,
   "id": "dd5292af",
   "metadata": {},
   "outputs": [],
   "source": [
    "a=0\n"
   ]
  },
  {
   "cell_type": "code",
   "execution_count": 12,
   "id": "947c8e2c",
   "metadata": {},
   "outputs": [
    {
     "name": "stdout",
     "output_type": "stream",
     "text": [
      "60\n"
     ]
    }
   ],
   "source": [
    "for i in range(5,16,2):\n",
    "    a+=i\n",
    "print(a)"
   ]
  },
  {
   "cell_type": "code",
   "execution_count": 14,
   "id": "2c057d10",
   "metadata": {},
   "outputs": [
    {
     "name": "stdout",
     "output_type": "stream",
     "text": [
      "9634 is the highest number\n",
      "-632 is the lowest value\n"
     ]
    }
   ],
   "source": [
    "# WAP to accept 10 numbers from the user and display highest and lowest number \n",
    "\n",
    "i = 1\n",
    "num = 10 \n",
    "highest = 0\n",
    "lowest = 0\n",
    "while i<=10:\n",
    "    num = int(input(f\"enter the {i}th value\"))\n",
    "    i+=1\n",
    "\n",
    "    if num > highest:\n",
    "        highest = num\n",
    "    if num < lowest:\n",
    "        lowest = num \n",
    "\n",
    "\n",
    "print(f\"{highest} is the highest number\")\n",
    "print(f\"{lowest} is the lowest value\")"
   ]
  },
  {
   "cell_type": "markdown",
   "id": "8a293503",
   "metadata": {},
   "source": [
    "### FOR LOOP "
   ]
  },
  {
   "cell_type": "code",
   "execution_count": 20,
   "id": "b6264d9f",
   "metadata": {},
   "outputs": [
    {
     "name": "stdout",
     "output_type": "stream",
     "text": [
      "50\n",
      "52\n",
      "54\n",
      "56\n",
      "58\n",
      "60\n",
      "62\n",
      "64\n",
      "66\n",
      "68\n",
      "70\n",
      "72\n",
      "74\n",
      "76\n",
      "78\n",
      "80\n",
      "82\n",
      "84\n",
      "86\n",
      "88\n",
      "90\n",
      "92\n",
      "94\n",
      "96\n",
      "98\n",
      "100\n",
      "102\n",
      "104\n",
      "106\n",
      "108\n"
     ]
    }
   ],
   "source": [
    "for i in range(50,110,2):\n",
    "    print(i)"
   ]
  },
  {
   "cell_type": "code",
   "execution_count": 21,
   "id": "ca0b7a6d",
   "metadata": {},
   "outputs": [
    {
     "name": "stdout",
     "output_type": "stream",
     "text": [
      "10\n",
      "9\n",
      "8\n",
      "7\n",
      "6\n",
      "5\n",
      "4\n",
      "3\n",
      "2\n",
      "1\n"
     ]
    }
   ],
   "source": [
    "for i in range(10,0,-1):\n",
    "    print(i)"
   ]
  },
  {
   "cell_type": "code",
   "execution_count": 22,
   "id": "a06d7045",
   "metadata": {},
   "outputs": [
    {
     "name": "stdout",
     "output_type": "stream",
     "text": [
      "10 * 1 = 10\n",
      "10 * 2 = 20\n",
      "10 * 3 = 30\n",
      "10 * 4 = 40\n",
      "10 * 5 = 50\n",
      "10 * 6 = 60\n",
      "10 * 7 = 70\n",
      "10 * 8 = 80\n",
      "10 * 9 = 90\n",
      "10 * 10 = 100\n"
     ]
    }
   ],
   "source": [
    "num = int(input(\"enter a value\"))\n",
    "for i in range(1,11):\n",
    "    print(f\"{num} * {i} = {num*i}\")"
   ]
  },
  {
   "cell_type": "code",
   "execution_count": 25,
   "id": "4279abd7",
   "metadata": {},
   "outputs": [
    {
     "name": "stdout",
     "output_type": "stream",
     "text": [
      "1\n",
      "2\n",
      "3\n",
      "4\n",
      "5\n",
      "6\n",
      "7\n",
      "8\n",
      "9\n",
      "10\n",
      "11\n",
      "12\n",
      "13\n",
      "14\n",
      "hello\n"
     ]
    }
   ],
   "source": [
    "for i in range(1,25):\n",
    "    if i == 15:\n",
    "        break\n",
    "    print(i)\n",
    "\n",
    "print(\"hello\")"
   ]
  },
  {
   "cell_type": "code",
   "execution_count": null,
   "id": "b306d2a6",
   "metadata": {},
   "outputs": [
    {
     "name": "stdout",
     "output_type": "stream",
     "text": [
      "1\n",
      "hello \n",
      "2\n",
      "hello \n",
      "3\n",
      "hello \n",
      "4\n",
      "hello \n",
      "5\n",
      "hello \n",
      "6\n",
      "hello \n",
      "7\n",
      "hello \n",
      "8\n",
      "hello \n",
      "9\n",
      "hello \n",
      "10\n",
      "hello \n",
      "11\n",
      "hello \n",
      "12\n",
      "hello \n",
      "13\n",
      "hello \n",
      "14\n",
      "hello \n",
      "16\n",
      "hello \n",
      "17\n",
      "hello \n",
      "18\n",
      "hello \n",
      "19\n",
      "hello \n",
      "20\n",
      "hello \n",
      "21\n",
      "hello \n",
      "22\n",
      "hello \n",
      "23\n",
      "hello \n",
      "24\n",
      "hello \n",
      "hello\n"
     ]
    }
   ],
   "source": [
    "for i in range(1,25):\n",
    "    if i == 15:\n",
    "        continue\n",
    "        print(\"hello ,heyy\")\n",
    "    print(i)\n",
    "\n",
    "    print(\"hello \")\n",
    "\n",
    "print(\"hello\")"
   ]
  },
  {
   "cell_type": "code",
   "execution_count": 32,
   "id": "3cd4a6fb",
   "metadata": {},
   "outputs": [
    {
     "name": "stdout",
     "output_type": "stream",
     "text": [
      "1\n",
      "2\n",
      "3\n",
      "4\n",
      "5\n",
      "6\n",
      "7\n",
      "8\n",
      "9\n",
      "10\n",
      "11\n",
      "12\n",
      "13\n",
      "14\n",
      "15\n",
      "16\n",
      "17\n",
      "18\n",
      "19\n",
      "20\n",
      "21\n",
      "22\n",
      "23\n",
      "24\n",
      "hello\n"
     ]
    }
   ],
   "source": [
    "for i in range(1,25):\n",
    "    if i == 15:\n",
    "        pass\n",
    "    print(i)\n",
    "\n",
    "print(\"hello\")"
   ]
  },
  {
   "cell_type": "code",
   "execution_count": null,
   "id": "4d133003",
   "metadata": {},
   "outputs": [],
   "source": [
    "'''\n",
    "*\n",
    "**\n",
    "***\n",
    "****\n",
    "*****\n",
    "'''"
   ]
  },
  {
   "cell_type": "code",
   "execution_count": 33,
   "id": "0d7fb0c2",
   "metadata": {},
   "outputs": [
    {
     "data": {
      "text/plain": [
       "'*****'"
      ]
     },
     "execution_count": 33,
     "metadata": {},
     "output_type": "execute_result"
    }
   ],
   "source": [
    "'*'*5"
   ]
  },
  {
   "cell_type": "code",
   "execution_count": 37,
   "id": "459458c6",
   "metadata": {},
   "outputs": [
    {
     "name": "stdout",
     "output_type": "stream",
     "text": [
      "\n",
      "*\n",
      "**\n",
      "***\n",
      "****\n",
      "*****\n",
      "******\n",
      "*******\n",
      "********\n",
      "*********\n",
      "**********\n"
     ]
    }
   ],
   "source": [
    "num = int(input(\"enter any num\"))\n",
    "for i in range(num+1):\n",
    "    print('*'*i)"
   ]
  },
  {
   "cell_type": "code",
   "execution_count": null,
   "id": "7c1eedbd",
   "metadata": {},
   "outputs": [],
   "source": [
    "'''\n",
    "*****\n",
    "****\n",
    "***\n",
    "**\n",
    "*\n",
    "'''"
   ]
  },
  {
   "cell_type": "code",
   "execution_count": 38,
   "id": "a26f6671",
   "metadata": {},
   "outputs": [
    {
     "name": "stdout",
     "output_type": "stream",
     "text": [
      "*****\n",
      "****\n",
      "***\n",
      "**\n",
      "*\n"
     ]
    }
   ],
   "source": [
    "num = int(input(\"enter any num\"))\n",
    "for i in range(num,0,-1):\n",
    "    print('*'*i)"
   ]
  },
  {
   "cell_type": "code",
   "execution_count": null,
   "id": "b891713a",
   "metadata": {},
   "outputs": [],
   "source": [
    "'''\n",
    "    *\n",
    "   ***\n",
    "  *****\n",
    " *******\n",
    "*********\n",
    "'''"
   ]
  },
  {
   "cell_type": "code",
   "execution_count": 2,
   "id": "a46e4572-f6a0-4845-be14-0e6fd228f697",
   "metadata": {},
   "outputs": [
    {
     "name": "stdout",
     "output_type": "stream",
     "text": [
      "     *\n",
      "    ***\n",
      "   *****\n",
      "  *******\n",
      " *********\n",
      "  *******\n",
      "   *****\n",
      "    ***\n",
      "     *\n"
     ]
    }
   ],
   "source": [
    "rows = int(input(\"enter any number\"))\n",
    "for i in range(1,rows+1):\n",
    "    spaces = ' ' * (rows-i)\n",
    "    stars = '*' * (2*i-1)\n",
    "    print(spaces,stars)\n",
    "for i in range(rows-1,0,-1):\n",
    "    spaces = ' ' * (rows-i)\n",
    "    stars = '*' * (2*i-1)\n",
    "    print(spaces,stars)\n",
    "\n"
   ]
  },
  {
   "cell_type": "code",
   "execution_count": null,
   "id": "a38cb2b5-10c1-49c9-a054-240c0a933893",
   "metadata": {},
   "outputs": [],
   "source": []
  },
  {
   "cell_type": "code",
   "execution_count": null,
   "id": "222f8f8b",
   "metadata": {},
   "outputs": [],
   "source": [
    "#     *\n",
    "#    ***\n",
    "#   *****\n",
    "#  *******\n",
    "# *********\n",
    "#  *******\n",
    "#   *****\n",
    "#    ***\n",
    "#     *"
   ]
  },
  {
   "cell_type": "code",
   "execution_count": null,
   "id": "a656de65",
   "metadata": {},
   "outputs": [],
   "source": []
  },
  {
   "cell_type": "code",
   "execution_count": 39,
   "id": "b2ac258c",
   "metadata": {},
   "outputs": [],
   "source": [
    "# 1\n",
    "# 12\n",
    "# 123\n",
    "# 1234\n",
    "# 12345"
   ]
  },
  {
   "cell_type": "code",
   "execution_count": 42,
   "id": "d208dc5a",
   "metadata": {},
   "outputs": [
    {
     "name": "stdout",
     "output_type": "stream",
     "text": [
      "1 \n",
      "1 2 \n",
      "1 2 3 \n",
      "1 2 3 4 \n",
      "1 2 3 4 5 \n"
     ]
    }
   ],
   "source": [
    "num = int(input(\"enter any num\"))\n",
    "for i in range(1,num+1):\n",
    "    for j in range(1,i+1):\n",
    "        print(j, end = \" \")\n",
    "\n",
    "    print(\"\")"
   ]
  },
  {
   "cell_type": "code",
   "execution_count": null,
   "id": "9961ec8a",
   "metadata": {},
   "outputs": [],
   "source": [
    "'''\n",
    "1 2 3 4 5 \n",
    "1 2 3 4 \n",
    "1 2 3 \n",
    "1 2 \n",
    "1 \n",
    "'''"
   ]
  },
  {
   "cell_type": "code",
   "execution_count": null,
   "id": "d8e283b8",
   "metadata": {},
   "outputs": [],
   "source": [
    "'''\n",
    "1\n",
    "22\n",
    "333\n",
    "4444\n",
    "55555\n",
    "'''"
   ]
  }
 ],
 "metadata": {
  "kernelspec": {
   "display_name": "Python 3",
   "language": "python",
   "name": "python3"
  },
  "language_info": {
   "codemirror_mode": {
    "name": "ipython",
    "version": 3
   },
   "file_extension": ".py",
   "mimetype": "text/x-python",
   "name": "python",
   "nbconvert_exporter": "python",
   "pygments_lexer": "ipython3",
   "version": "3.13.3"
  }
 },
 "nbformat": 4,
 "nbformat_minor": 5
}
